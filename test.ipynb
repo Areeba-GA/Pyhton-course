{
 "cells": [
  {
   "cell_type": "code",
   "execution_count": 26,
   "id": "d70d1c9c-4662-47e3-9977-5ea1e3659e91",
   "metadata": {},
   "outputs": [
    {
     "name": "stdin",
     "output_type": "stream",
     "text": [
      "score: 70\n"
     ]
    },
    {
     "name": "stdout",
     "output_type": "stream",
     "text": [
      "you score C grade\n"
     ]
    }
   ],
   "source": [
    "# 5/5\n",
    "marks= int(input(\"score:\"))\n",
    "if(marks>=80):\n",
    "    print(\"you score A grade\")\n",
    "elif(marks>70):\n",
    "    print(\"you score B grade\")\n",
    "elif(marks>60):\n",
    "    print(\"you score C grade\")\n",
    "elif(marks>50):\n",
    "    print(\"you score D grade\")\n",
    "else:\n",
    "    print(\"you got F grade\")"
   ]
  },
  {
   "cell_type": "code",
   "execution_count": 27,
   "id": "7a828aa0-5f2b-4d2b-931c-035c311aecc9",
   "metadata": {},
   "outputs": [
    {
     "name": "stdin",
     "output_type": "stream",
     "text": [
      "original price 400\n"
     ]
    },
    {
     "name": "stdout",
     "output_type": "stream",
     "text": [
      "the original price is: 400\n",
      "the discount is: 40.0\n",
      "the price after discount is: 360.0\n"
     ]
    }
   ],
   "source": [
    "5/5\n",
    "price=int(input(\"original price\"))\n",
    "discount=price*(10/100)\n",
    "print(\"the original price is:\",price)\n",
    "print(\"the discount is:\",discount)\n",
    "print(\"the price after discount is:\",price-discount)"
   ]
  },
  {
   "cell_type": "code",
   "execution_count": 28,
   "id": "db4f6562-4ea6-4e00-969d-7d4e15eaac69",
   "metadata": {},
   "outputs": [
    {
     "name": "stdin",
     "output_type": "stream",
     "text": [
      "length 34\n",
      "width 24\n"
     ]
    },
    {
     "name": "stdout",
     "output_type": "stream",
     "text": [
      "the length of rectangle is: 816\n"
     ]
    }
   ],
   "source": [
    "# 5/5\n",
    "length=int(input(\"length\"))\n",
    "width=int(input(\"width\"))\n",
    "area= length*width\n",
    "print(\"the length of rectangle is:\",area)"
   ]
  },
  {
   "cell_type": "code",
   "execution_count": 29,
   "id": "a8088979-73d9-48ad-853e-67b721e9e19a",
   "metadata": {},
   "outputs": [
    {
     "name": "stdin",
     "output_type": "stream",
     "text": [
      "amount 4000\n",
      "interest rate 3\n",
      "time 4\n"
     ]
    },
    {
     "name": "stdout",
     "output_type": "stream",
     "text": [
      "the simple interest is: 48000\n"
     ]
    }
   ],
   "source": [
    "5/5\n",
    "principle_amount=int(input(\"amount\"))\n",
    "interest_rate=int(input(\"interest rate\"))\n",
    "time=int(input(\"time\"))\n",
    "print(\"the simple interest is:\",principle_amount*interest_rate*time)"
   ]
  },
  {
   "cell_type": "code",
   "execution_count": 30,
   "id": "a3c9fb35-13a8-4977-bba5-ee5adcf6a24f",
   "metadata": {},
   "outputs": [
    {
     "name": "stdin",
     "output_type": "stream",
     "text": [
      "enter 1st number 2\n",
      "enter 2nd number 2\n",
      "enter 3rd number 2\n"
     ]
    },
    {
     "name": "stdout",
     "output_type": "stream",
     "text": [
      "the average of three numbers is: 2.0\n"
     ]
    }
   ],
   "source": [
    "#5/5\n",
    "sub1=int(input(\"enter 1st number\"))\n",
    "sub2=int(input(\"enter 2nd number\"))\n",
    "sub3=int(input(\"enter 3rd number\"))\n",
    "sum= sub1+sub2+sub3\n",
    "average=sum/3\n",
    "print(\"the average of three numbers is:\",average)"
   ]
  },
  {
   "cell_type": "code",
   "execution_count": 14,
   "id": "2cea69e6-4ed7-4bf3-8d3c-2d2ad24dbeeb",
   "metadata": {},
   "outputs": [
    {
     "name": "stdin",
     "output_type": "stream",
     "text": [
      "1st number 56\n",
      "2nd number 76\n"
     ]
    },
    {
     "name": "stdout",
     "output_type": "stream",
     "text": [
      "the sum of two numbers is: 132\n"
     ]
    }
   ],
   "source": [
    "# 5/5\n",
    "n1=int(input(\"1st number\"))\n",
    "n2=int(input(\"2nd number\"))\n",
    "sum=n1+n2\n",
    "print(\"the sum of two numbers is:\",sum)"
   ]
  },
  {
   "cell_type": "code",
   "execution_count": 15,
   "id": "84053e39-0bf4-4e8c-a4fc-d32015120912",
   "metadata": {},
   "outputs": [
    {
     "name": "stdin",
     "output_type": "stream",
     "text": [
      "apple price 120\n",
      "weight 4.5\n"
     ]
    },
    {
     "name": "stdout",
     "output_type": "stream",
     "text": [
      "the total amount of apple is: 124.5\n"
     ]
    }
   ],
   "source": [
    "3/5\n",
    "price=int(input(\"apple price\"))\n",
    "weight=float(input(\"weight\"))\n",
    "sum=price+weight\n",
    "print(\"the total amount of apple is:\",sum)"
   ]
  },
  {
   "cell_type": "code",
   "execution_count": 16,
   "id": "8cf1ce2e-7673-4669-8cd5-5d233a09b4e2",
   "metadata": {},
   "outputs": [
    {
     "name": "stdin",
     "output_type": "stream",
     "text": [
      "the speed 60\n",
      "time 30\n"
     ]
    },
    {
     "name": "stdout",
     "output_type": "stream",
     "text": [
      "the distance travel by the person is: 1800\n"
     ]
    }
   ],
   "source": [
    "5/5\n",
    "speed=int(input(\"the speed\"))\n",
    "time=int(input(\"time\"))\n",
    "distance=speed*time\n",
    "print(\"the distance travel by the person is:\",distance)"
   ]
  },
  {
   "cell_type": "code",
   "execution_count": 17,
   "id": "385d1952-f78a-41d8-b047-5bbf41c395d4",
   "metadata": {},
   "outputs": [
    {
     "name": "stdin",
     "output_type": "stream",
     "text": [
      "initial balance 4500\n",
      "deposit amount 7800\n",
      "withdraw amount 2000\n"
     ]
    },
    {
     "name": "stdout",
     "output_type": "stream",
     "text": [
      "the total amount is: 14300\n"
     ]
    }
   ],
   "source": [
    "3/5\n",
    "initial_balance=int(input(\"initial balance\"))\n",
    "deposit_amount=int(input(\"deposit amount\"))\n",
    "withdraw_amount=int(input(\"withdraw amount\"))\n",
    "sum=initial_balance+deposit_amount-withdraw_amount\n",
    "print(\"the total amount is:\",sum)"
   ]
  },
  {
   "cell_type": "code",
   "execution_count": 23,
   "id": "5cbab11d-7b38-47c3-a8bf-8374cfffadd4",
   "metadata": {},
   "outputs": [
    {
     "name": "stdin",
     "output_type": "stream",
     "text": [
      "calcius 65\n",
      "fehrenheit 45\n"
     ]
    },
    {
     "name": "stdout",
     "output_type": "stream",
     "text": [
      "calsius to kelvin is: 338\n",
      "fehrenheit to kelvin is: -228\n"
     ]
    }
   ],
   "source": [
    "celsius=int(input(\"calcius\"))\n",
    "fehrenheit=int(input(\"fehrenheit\"))\n",
    "celsius_to_kelvin= celsius+273\n",
    "fehrenheit_to_kelvin=fehrenheit-273\n",
    "print(\"calsius to kelvin is:\",celsius_to_kelvin)\n",
    "print(\"fehrenheit to kelvin is:\",fehrenheit_to_kelvin)\n"
   ]
  },
  {
   "cell_type": "code",
   "execution_count": 31,
   "id": "0cfaa75d-da88-491b-9559-3508c0700b0a",
   "metadata": {},
   "outputs": [
    {
     "name": "stdin",
     "output_type": "stream",
     "text": [
      "calcius 3\n",
      "fehrenheit 3\n"
     ]
    },
    {
     "name": "stdout",
     "output_type": "stream",
     "text": [
      "calsius to kelvin is: 276\n",
      "fehrenheit to kelvin is: 256.8888888888889\n",
      "celsius to fehrenheit: -16.11111111111111\n"
     ]
    }
   ],
   "source": [
    "4/5\n",
    "celsius=int(input(\"calcius\"))\n",
    "fehrenheit=int(input(\"fehrenheit\"))\n",
    "celsius_to_kelvin= celsius+273\n",
    "fehrenheit_to_kelvin=(fehrenheit-32)*5/9+273\n",
    "celsius_to_fehrenheit=(fehrenheit-32)*5/9\n",
    "print(\"calsius to kelvin is:\",celsius_to_kelvin)\n",
    "print(\"fehrenheit to kelvin is:\",fehrenheit_to_kelvin)\n",
    "print(\"celsius to fehrenheit:\",celsius_to_fehrenheit)"
   ]
  },
  {
   "cell_type": "code",
   "execution_count": null,
   "id": "0554e897-fc72-4c0c-9fab-9531db7f93df",
   "metadata": {},
   "outputs": [],
   "source": []
  },
  {
   "cell_type": "markdown",
   "id": "eba51a69-224c-407c-b2c8-fca56c46f7f9",
   "metadata": {},
   "source": [
    "# you got 45/50 , congrats"
   ]
  },
  {
   "cell_type": "code",
   "execution_count": 32,
   "id": "c0c0145a-5966-4881-8f44-c6b1aad30f79",
   "metadata": {},
   "outputs": [],
   "source": [
    "def greet():\n",
    "    print(\"hello bacho\")\n"
   ]
  },
  {
   "cell_type": "code",
   "execution_count": 34,
   "id": "68ed4570-7de0-4eba-9eda-c6ae7d05734a",
   "metadata": {},
   "outputs": [
    {
     "name": "stdout",
     "output_type": "stream",
     "text": [
      "hello bacho\n",
      "hello bacho\n"
     ]
    }
   ],
   "source": [
    "greet()\n",
    "greet()"
   ]
  },
  {
   "cell_type": "code",
   "execution_count": 35,
   "id": "d09b7078-b41b-4128-bbda-0ba0d29156f8",
   "metadata": {},
   "outputs": [
    {
     "name": "stdout",
     "output_type": "stream",
     "text": [
      "hello bacho\n",
      "hello bacho\n",
      "hello bacho\n",
      "hello bacho\n",
      "hello bacho\n",
      "hello bacho\n",
      "hello bacho\n",
      "hello bacho\n",
      "hello bacho\n"
     ]
    }
   ],
   "source": [
    "for i in range(1,10):\n",
    "    greet()"
   ]
  },
  {
   "cell_type": "code",
   "execution_count": 36,
   "id": "cf402ace-fd0e-430b-bdaa-5c9867f86d0c",
   "metadata": {},
   "outputs": [],
   "source": [
    "def slepp():\n",
    "    print(\"good night\")"
   ]
  },
  {
   "cell_type": "code",
   "execution_count": 38,
   "id": "8e921372-8028-4e9e-8198-a801f4b501bc",
   "metadata": {},
   "outputs": [
    {
     "name": "stdout",
     "output_type": "stream",
     "text": [
      "good night\n"
     ]
    }
   ],
   "source": [
    "slepp()"
   ]
  },
  {
   "cell_type": "code",
   "execution_count": 1,
   "id": "6347bbe8-7d3b-411d-adfb-10fbecb12aa7",
   "metadata": {},
   "outputs": [],
   "source": [
    "def morning():\n",
    "    print(\"good morning\")"
   ]
  },
  {
   "cell_type": "code",
   "execution_count": 3,
   "id": "3df87285-88d8-4847-a8b6-59fd0329036f",
   "metadata": {},
   "outputs": [
    {
     "name": "stdout",
     "output_type": "stream",
     "text": [
      "good morning\n"
     ]
    }
   ],
   "source": [
    "morning()"
   ]
  },
  {
   "cell_type": "code",
   "execution_count": 5,
   "id": "1f619f3c-dbac-42eb-81f2-f370b079be12",
   "metadata": {},
   "outputs": [
    {
     "name": "stdout",
     "output_type": "stream",
     "text": [
      "good morning\n",
      "good morning\n",
      "good morning\n",
      "good morning\n",
      "good morning\n",
      "good morning\n",
      "good morning\n",
      "good morning\n",
      "good morning\n",
      "good morning\n",
      "good morning\n",
      "good morning\n",
      "good morning\n",
      "good morning\n",
      "good morning\n",
      "good morning\n",
      "good morning\n",
      "good morning\n",
      "good morning\n"
     ]
    }
   ],
   "source": [
    "for i in range(1,20):\n",
    "    morning()\n"
   ]
  },
  {
   "cell_type": "code",
   "execution_count": null,
   "id": "785d6c68-b407-4ff3-994c-e68d96f1c480",
   "metadata": {},
   "outputs": [],
   "source": []
  }
 ],
 "metadata": {
  "kernelspec": {
   "display_name": "Python 3 (ipykernel)",
   "language": "python",
   "name": "python3"
  },
  "language_info": {
   "codemirror_mode": {
    "name": "ipython",
    "version": 3
   },
   "file_extension": ".py",
   "mimetype": "text/x-python",
   "name": "python",
   "nbconvert_exporter": "python",
   "pygments_lexer": "ipython3",
   "version": "3.11.7"
  }
 },
 "nbformat": 4,
 "nbformat_minor": 5
}

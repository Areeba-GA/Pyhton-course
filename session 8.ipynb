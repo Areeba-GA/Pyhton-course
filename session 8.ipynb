{
 "cells": [
  {
   "cell_type": "markdown",
   "id": "8d4b93b0-274a-47d1-9f02-9883d16b58db",
   "metadata": {},
   "source": [
    "# Tuples\n",
    "\n",
    "- tuple basically a row, represeenting a record in any data structures,\n",
    "- in python tuple reffers ro denote by () paranthesis\n",
    "- "
   ]
  },
  {
   "cell_type": "code",
   "execution_count": 1,
   "id": "c10d141e-65e4-4f3b-a1eb-57f40fb4afda",
   "metadata": {},
   "outputs": [],
   "source": [
    "mytuple = (1,23,4,4)"
   ]
  },
  {
   "cell_type": "code",
   "execution_count": 2,
   "id": "73ba3b16-c183-4e4e-9bc4-4b979c458653",
   "metadata": {},
   "outputs": [
    {
     "data": {
      "text/plain": [
       "(1, 23, 4, 4)"
      ]
     },
     "execution_count": 2,
     "metadata": {},
     "output_type": "execute_result"
    }
   ],
   "source": [
    "mytuple"
   ]
  },
  {
   "cell_type": "code",
   "execution_count": 3,
   "id": "2dac501d-cfb9-4f92-8b9b-c08fbc2a0d10",
   "metadata": {},
   "outputs": [
    {
     "data": {
      "text/plain": [
       "tuple"
      ]
     },
     "execution_count": 3,
     "metadata": {},
     "output_type": "execute_result"
    }
   ],
   "source": [
    "type(mytuple)"
   ]
  },
  {
   "cell_type": "code",
   "execution_count": 6,
   "id": "0fafe95c-d4fa-4a8e-a15a-653024c08d69",
   "metadata": {},
   "outputs": [
    {
     "ename": "TypeError",
     "evalue": "'tuple' object does not support item assignment",
     "output_type": "error",
     "traceback": [
      "\u001b[1;31m---------------------------------------------------------------------------\u001b[0m",
      "\u001b[1;31mTypeError\u001b[0m                                 Traceback (most recent call last)",
      "Cell \u001b[1;32mIn[6], line 1\u001b[0m\n\u001b[1;32m----> 1\u001b[0m mytuple[\u001b[38;5;241m0\u001b[39m]\u001b[38;5;241m=\u001b[39m\u001b[38;5;241m78\u001b[39m\n",
      "\u001b[1;31mTypeError\u001b[0m: 'tuple' object does not support item assignment"
     ]
    }
   ],
   "source": [
    "mytuple[0]=78"
   ]
  },
  {
   "cell_type": "code",
   "execution_count": 7,
   "id": "8fbcf364-f3c1-411c-b99d-af48064825d0",
   "metadata": {},
   "outputs": [],
   "source": [
    "del mytuple"
   ]
  },
  {
   "cell_type": "code",
   "execution_count": 8,
   "id": "b43115d6-6049-42b0-906d-749278aa14b1",
   "metadata": {},
   "outputs": [
    {
     "ename": "NameError",
     "evalue": "name 'mytuple' is not defined",
     "output_type": "error",
     "traceback": [
      "\u001b[1;31m---------------------------------------------------------------------------\u001b[0m",
      "\u001b[1;31mNameError\u001b[0m                                 Traceback (most recent call last)",
      "Cell \u001b[1;32mIn[8], line 1\u001b[0m\n\u001b[1;32m----> 1\u001b[0m mytuple\n",
      "\u001b[1;31mNameError\u001b[0m: name 'mytuple' is not defined"
     ]
    }
   ],
   "source": [
    "mytuple"
   ]
  },
  {
   "cell_type": "code",
   "execution_count": 9,
   "id": "6711b20f-92e4-415f-b2e3-a0ecd3afcfec",
   "metadata": {},
   "outputs": [],
   "source": [
    "dic = {1:\"ali\",2:\"ahmad\",3:\"usman\"}"
   ]
  },
  {
   "cell_type": "code",
   "execution_count": 10,
   "id": "a6cebba8-78d6-4f99-8280-9d506a891760",
   "metadata": {},
   "outputs": [
    {
     "data": {
      "text/plain": [
       "{1: 'ali', 2: 'ahmad', 3: 'usman'}"
      ]
     },
     "execution_count": 10,
     "metadata": {},
     "output_type": "execute_result"
    }
   ],
   "source": [
    "dic"
   ]
  },
  {
   "cell_type": "code",
   "execution_count": 12,
   "id": "ec2ee027-9840-439d-bcfc-49500edf2665",
   "metadata": {},
   "outputs": [
    {
     "data": {
      "text/plain": [
       "'ali'"
      ]
     },
     "execution_count": 12,
     "metadata": {},
     "output_type": "execute_result"
    }
   ],
   "source": [
    "dic[1]"
   ]
  },
  {
   "cell_type": "code",
   "execution_count": 18,
   "id": "5a7cf984-bd31-4295-b3d0-a257389ea707",
   "metadata": {},
   "outputs": [
    {
     "data": {
      "text/plain": [
       "'not found'"
      ]
     },
     "execution_count": 18,
     "metadata": {},
     "output_type": "execute_result"
    }
   ],
   "source": [
    "dic.get(5,\"not found\")"
   ]
  },
  {
   "cell_type": "code",
   "execution_count": 19,
   "id": "74c676a0-fb0e-4485-8bee-90280ed77749",
   "metadata": {},
   "outputs": [
    {
     "data": {
      "text/plain": [
       "True"
      ]
     },
     "execution_count": 19,
     "metadata": {},
     "output_type": "execute_result"
    }
   ],
   "source": [
    "3 in dic"
   ]
  },
  {
   "cell_type": "code",
   "execution_count": 20,
   "id": "5ce2dae0-1ecd-47b8-b677-d9e60595466b",
   "metadata": {},
   "outputs": [
    {
     "data": {
      "text/plain": [
       "dict_items([(1, 'ali'), (2, 'ahmad'), (3, 'usman')])"
      ]
     },
     "execution_count": 20,
     "metadata": {},
     "output_type": "execute_result"
    }
   ],
   "source": [
    "dic.items()\n"
   ]
  },
  {
   "cell_type": "code",
   "execution_count": 21,
   "id": "4b1748f5-e62f-482a-86ea-e14f6c7d62ad",
   "metadata": {},
   "outputs": [
    {
     "data": {
      "text/plain": [
       "dict_keys([1, 2, 3])"
      ]
     },
     "execution_count": 21,
     "metadata": {},
     "output_type": "execute_result"
    }
   ],
   "source": [
    "dic.keys()"
   ]
  },
  {
   "cell_type": "code",
   "execution_count": 22,
   "id": "a99f5b0f-45ac-469a-9c3b-5bd4f4ec561f",
   "metadata": {},
   "outputs": [
    {
     "data": {
      "text/plain": [
       "dict_values(['ali', 'ahmad', 'usman'])"
      ]
     },
     "execution_count": 22,
     "metadata": {},
     "output_type": "execute_result"
    }
   ],
   "source": [
    "dic.values()"
   ]
  },
  {
   "cell_type": "code",
   "execution_count": 23,
   "id": "727d07fc-1639-4302-a9de-8a626de85357",
   "metadata": {},
   "outputs": [],
   "source": [
    "dic[4]=\"raza\"  #addin new item"
   ]
  },
  {
   "cell_type": "code",
   "execution_count": 24,
   "id": "e60e79af-89e6-414b-bd22-cbab5d2b044a",
   "metadata": {},
   "outputs": [
    {
     "data": {
      "text/plain": [
       "{1: 'ali', 2: 'ahmad', 3: 'usman', 4: 'raza'}"
      ]
     },
     "execution_count": 24,
     "metadata": {},
     "output_type": "execute_result"
    }
   ],
   "source": [
    "dic"
   ]
  },
  {
   "cell_type": "code",
   "execution_count": 25,
   "id": "d39b0443-2ded-4526-8df9-686fbcd33bae",
   "metadata": {},
   "outputs": [],
   "source": [
    "dic[5]=\"rehman\""
   ]
  },
  {
   "cell_type": "code",
   "execution_count": 26,
   "id": "d1eb6dc7-9206-4df8-bb1a-89d830664e58",
   "metadata": {},
   "outputs": [
    {
     "data": {
      "text/plain": [
       "{1: 'ali', 2: 'ahmad', 3: 'usman', 4: 'raza', 5: 'rehman'}"
      ]
     },
     "execution_count": 26,
     "metadata": {},
     "output_type": "execute_result"
    }
   ],
   "source": [
    "dic"
   ]
  },
  {
   "cell_type": "code",
   "execution_count": 27,
   "id": "86a335cd-89ea-4e54-96d6-29a3288af060",
   "metadata": {},
   "outputs": [],
   "source": [
    "dic[len(dic)+1]=\"raja\""
   ]
  },
  {
   "cell_type": "code",
   "execution_count": 28,
   "id": "1bb9a1fd-f742-455c-8e27-c1b1d93a5688",
   "metadata": {},
   "outputs": [
    {
     "data": {
      "text/plain": [
       "{1: 'ali', 2: 'ahmad', 3: 'usman', 4: 'raza', 5: 'rehman', 6: 'raja'}"
      ]
     },
     "execution_count": 28,
     "metadata": {},
     "output_type": "execute_result"
    }
   ],
   "source": [
    "dic"
   ]
  },
  {
   "cell_type": "code",
   "execution_count": 45,
   "id": "84254191-1396-4910-9032-393d84c4201c",
   "metadata": {},
   "outputs": [
    {
     "name": "stdin",
     "output_type": "stream",
     "text": [
      "enter value 45\n",
      "enter value 67\n",
      "enter value 87\n",
      "enter value 89\n",
      "enter value 34\n"
     ]
    }
   ],
   "source": [
    "dic={}\n",
    "for i in range(0,5):\n",
    "    marks=int(input(\"enter value\"))\n",
    "    dic[i]=marks"
   ]
  },
  {
   "cell_type": "code",
   "execution_count": 46,
   "id": "9d9c0691-d8ca-4cdf-9549-6ecb31f3c887",
   "metadata": {},
   "outputs": [
    {
     "data": {
      "text/plain": [
       "{0: 45, 1: 67, 2: 87, 3: 89, 4: 34}"
      ]
     },
     "execution_count": 46,
     "metadata": {},
     "output_type": "execute_result"
    }
   ],
   "source": [
    "dic"
   ]
  },
  {
   "cell_type": "code",
   "execution_count": 48,
   "id": "17df0b68-dee1-4a0c-a8b7-4994babacf8c",
   "metadata": {},
   "outputs": [],
   "source": [
    "marks = dic.values()"
   ]
  },
  {
   "cell_type": "code",
   "execution_count": 49,
   "id": "33df71d1-0567-4a5c-b77b-ca357f361437",
   "metadata": {},
   "outputs": [
    {
     "data": {
      "text/plain": [
       "dict_values([45, 67, 87, 89, 34])"
      ]
     },
     "execution_count": 49,
     "metadata": {},
     "output_type": "execute_result"
    }
   ],
   "source": [
    "marks"
   ]
  },
  {
   "cell_type": "code",
   "execution_count": 50,
   "id": "0140ab5a-8276-42cf-a612-f66185cf1390",
   "metadata": {},
   "outputs": [
    {
     "name": "stdout",
     "output_type": "stream",
     "text": [
      "322\n"
     ]
    }
   ],
   "source": [
    "sum=0\n",
    "for j in marks:\n",
    "    sum=sum+j\n",
    "print(sum)"
   ]
  },
  {
   "cell_type": "code",
   "execution_count": 68,
   "id": "1e3fa770-d327-4a3d-8bc6-44c130ad6a4d",
   "metadata": {},
   "outputs": [
    {
     "name": "stdin",
     "output_type": "stream",
     "text": [
      "enter value mon\n"
     ]
    },
    {
     "name": "stdout",
     "output_type": "stream",
     "text": [
      "value found\n"
     ]
    }
   ],
   "source": [
    "dic={1:'mon',2:'tues',3:'wed',4:'thurs',5:'fri',6:'sat',7:'sun'}\n",
    "value=(input(\"enter value\"))\n",
    "if(value in dic.values()):\n",
    "    print(\"value found\")\n",
    "else:\n",
    "    print(\"not found\")"
   ]
  },
  {
   "cell_type": "code",
   "execution_count": 55,
   "id": "4781cb3a-1d26-4071-86a3-dc06badd8d11",
   "metadata": {},
   "outputs": [],
   "source": [
    "dic={1:'mon',2:'tues',3:'wed',4:'thurs',5:'fri',6:'sat',7:'sun'}"
   ]
  },
  {
   "cell_type": "code",
   "execution_count": 57,
   "id": "002a12b9-9952-4b33-a2a9-c10efe23b9fd",
   "metadata": {},
   "outputs": [
    {
     "data": {
      "text/plain": [
       "{1: 'mon', 2: 'tues', 3: 'wed', 4: 'thurs', 5: 'fri', 6: 'sat', 7: 'sun'}"
      ]
     },
     "execution_count": 57,
     "metadata": {},
     "output_type": "execute_result"
    }
   ],
   "source": [
    "dic"
   ]
  },
  {
   "cell_type": "code",
   "execution_count": 58,
   "id": "3356c0dc-4aba-4733-91a0-87a2a4adeeff",
   "metadata": {},
   "outputs": [
    {
     "data": {
      "text/plain": [
       "'sun'"
      ]
     },
     "execution_count": 58,
     "metadata": {},
     "output_type": "execute_result"
    }
   ],
   "source": [
    "dic[7]"
   ]
  },
  {
   "cell_type": "code",
   "execution_count": 61,
   "id": "0c145c06-2bf9-4146-9bc6-9aa9d5d719be",
   "metadata": {},
   "outputs": [],
   "source": [
    "all_keys=dic.keys()"
   ]
  },
  {
   "cell_type": "code",
   "execution_count": 62,
   "id": "44250269-e7fe-4ded-a07e-e51459b036ae",
   "metadata": {},
   "outputs": [
    {
     "data": {
      "text/plain": [
       "dict_keys([1, 2, 3, 4, 5, 6, 7])"
      ]
     },
     "execution_count": 62,
     "metadata": {},
     "output_type": "execute_result"
    }
   ],
   "source": [
    "all_keys"
   ]
  },
  {
   "cell_type": "code",
   "execution_count": null,
   "id": "4c94e963-3f97-4be0-ae5f-e9d43ad2b769",
   "metadata": {},
   "outputs": [],
   "source": []
  }
 ],
 "metadata": {
  "kernelspec": {
   "display_name": "Python 3 (ipykernel)",
   "language": "python",
   "name": "python3"
  },
  "language_info": {
   "codemirror_mode": {
    "name": "ipython",
    "version": 3
   },
   "file_extension": ".py",
   "mimetype": "text/x-python",
   "name": "python",
   "nbconvert_exporter": "python",
   "pygments_lexer": "ipython3",
   "version": "3.11.7"
  }
 },
 "nbformat": 4,
 "nbformat_minor": 5
}

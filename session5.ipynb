{
 "cells": [
  {
   "cell_type": "code",
   "execution_count": 5,
   "id": "52f9a15d-c4e4-4f1a-b2e7-5eecd9f0751b",
   "metadata": {},
   "outputs": [
    {
     "name": "stdout",
     "output_type": "stream",
     "text": [
      "name\n",
      "name\n",
      "name\n",
      "name\n",
      "name\n"
     ]
    }
   ],
   "source": [
    "print(\"name\")\n",
    "print(\"name\")\n",
    "print(\"name\")\n",
    "print(\"name\")\n",
    "print(\"name\")"
   ]
  },
  {
   "cell_type": "markdown",
   "id": "da69224d-1754-4f82-b727-fb04ab775ec4",
   "metadata": {
    "jp-MarkdownHeadingCollapsed": true
   },
   "source": [
    "# loops in Python \n",
    "> loops are structure that execute set of statement for given number of times\n",
    "1. while\n",
    "2. for\n",
    "\n",
    "> every loop has three parts as\n",
    "- declaration of control variable\n",
    "- condition on control variable\n",
    "- updation of conrol variable"
   ]
  },
  {
   "cell_type": "markdown",
   "id": "843fb2e9-262c-4268-bfe9-f4d2c0a41ab5",
   "metadata": {},
   "source": [
    "# while loop\n",
    "> simplest loop and it is used when we dont know the final number of iteration"
   ]
  },
  {
   "cell_type": "code",
   "execution_count": 15,
   "id": "1892228f-73cf-40d7-9caa-174eed8ea3b0",
   "metadata": {},
   "outputs": [
    {
     "name": "stdout",
     "output_type": "stream",
     "text": [
      "the value of n is: 1\n",
      "the value of n is: 3\n",
      "the value of n is: 5\n",
      "the value of n is: 7\n",
      "the value of n is: 9\n",
      "the value of n is: 11\n",
      "the value of n is: 13\n",
      "the value of n is: 15\n",
      "the value of n is: 17\n",
      "the value of n is: 19\n",
      "the value of n is: 21\n",
      "the value of n is: 23\n",
      "the value of n is: 25\n",
      "the value of n is: 27\n",
      "the value of n is: 29\n",
      "the value of n is: 31\n",
      "the value of n is: 33\n",
      "the value of n is: 35\n",
      "the value of n is: 37\n",
      "the value of n is: 39\n",
      "the value of n is: 41\n",
      "the value of n is: 43\n",
      "the value of n is: 45\n",
      "the value of n is: 47\n",
      "the value of n is: 49\n"
     ]
    }
   ],
   "source": [
    "n= 1\n",
    "while (n<=50):\n",
    "    print(\"the value of n is:\",n)\n",
    "    n=n+2\n",
    "\n",
    "\n"
   ]
  },
  {
   "cell_type": "code",
   "execution_count": 2,
   "id": "ef908c2a-8f16-43fb-8fd3-f6369402238b",
   "metadata": {},
   "outputs": [
    {
     "name": "stdout",
     "output_type": "stream",
     "text": [
      "odd 1\n",
      "even 2\n",
      "odd 3\n",
      "even 4\n",
      "odd 5\n",
      "even 6\n",
      "odd 7\n",
      "even 8\n",
      "odd 9\n",
      "even 10\n"
     ]
    }
   ],
   "source": [
    "n = 1\n",
    "while ( n <= 10):\n",
    "    \n",
    "    if(n % 2 ==0):\n",
    "        print(\"even\",n)\n",
    "    else:\n",
    "        print(\"odd\",n)\n",
    "    n=n+1\n",
    "\n"
   ]
  },
  {
   "cell_type": "code",
   "execution_count": 16,
   "id": "db94215f-fb59-48b3-9da9-ad17d3de866d",
   "metadata": {},
   "outputs": [
    {
     "name": "stdout",
     "output_type": "stream",
     "text": [
      "pakistan zindabad: 20\n",
      "pakistan zindabad: 19\n",
      "pakistan zindabad: 18\n",
      "pakistan zindabad: 17\n",
      "pakistan zindabad: 16\n",
      "pakistan zindabad: 15\n",
      "pakistan zindabad: 14\n",
      "pakistan zindabad: 13\n",
      "pakistan zindabad: 12\n",
      "pakistan zindabad: 11\n",
      "pakistan zindabad: 10\n",
      "pakistan zindabad: 9\n",
      "pakistan zindabad: 8\n",
      "pakistan zindabad: 7\n",
      "pakistan zindabad: 6\n",
      "pakistan zindabad: 5\n",
      "pakistan zindabad: 4\n",
      "pakistan zindabad: 3\n",
      "pakistan zindabad: 2\n",
      "pakistan zindabad: 1\n"
     ]
    }
   ],
   "source": [
    "n = 20\n",
    "while(n>=1):\n",
    "    print(\"pakistan zindabad:\",n)\n",
    "    n=n-1"
   ]
  },
  {
   "cell_type": "code",
   "execution_count": 24,
   "id": "449927d9-c3b1-42e4-b01e-5633c7db3f9a",
   "metadata": {},
   "outputs": [
    {
     "name": "stdout",
     "output_type": "stream",
     "text": [
      "the square of counting are: 1\n",
      "the square of counting are: 4\n",
      "the square of counting are: 9\n",
      "the square of counting are: 16\n",
      "the square of counting are: 25\n",
      "the square of counting are: 36\n",
      "the square of counting are: 49\n",
      "the square of counting are: 64\n",
      "the square of counting are: 81\n",
      "the square of counting are: 100\n",
      "the square of counting are: 121\n",
      "the square of counting are: 144\n",
      "the square of counting are: 169\n",
      "the square of counting are: 196\n",
      "the square of counting are: 225\n",
      "the square of counting are: 256\n",
      "the square of counting are: 289\n",
      "the square of counting are: 324\n",
      "the square of counting are: 361\n",
      "the square of counting are: 400\n"
     ]
    }
   ],
   "source": [
    "n= 1\n",
    "while(n<=20):\n",
    "    sq=n**2\n",
    "    print(\"the square of counting are:\",sq)\n",
    "    n=n+1"
   ]
  },
  {
   "cell_type": "code",
   "execution_count": 25,
   "id": "b26f1b78-2162-40dc-9d8b-5a4ca6592e39",
   "metadata": {},
   "outputs": [
    {
     "name": "stdout",
     "output_type": "stream",
     "text": [
      "the multiple of 3 is: 3\n",
      "the multiple of 3 is: 6\n",
      "the multiple of 3 is: 9\n",
      "the multiple of 3 is: 12\n",
      "the multiple of 3 is: 15\n",
      "the multiple of 3 is: 18\n",
      "the multiple of 3 is: 21\n",
      "the multiple of 3 is: 24\n",
      "the multiple of 3 is: 27\n",
      "the multiple of 3 is: 30\n",
      "the multiple of 3 is: 33\n",
      "the multiple of 3 is: 36\n",
      "the multiple of 3 is: 39\n",
      "the multiple of 3 is: 42\n",
      "the multiple of 3 is: 45\n",
      "the multiple of 3 is: 48\n"
     ]
    }
   ],
   "source": [
    "n=1\n",
    "while(n<=50):\n",
    "    if(n%3==0):\n",
    "        print(\"the multiple of 3 is:\",n)\n",
    "    n=n+1"
   ]
  },
  {
   "cell_type": "code",
   "execution_count": 29,
   "id": "ef81c588-44ab-4cc5-a2d2-ff91fb4e761f",
   "metadata": {},
   "outputs": [
    {
     "name": "stdout",
     "output_type": "stream",
     "text": [
      "2 x 1 = 2\n",
      "2 x 2 = 4\n",
      "2 x 3 = 6\n",
      "2 x 4 = 8\n",
      "2 x 5 = 10\n",
      "2 x 6 = 12\n",
      "2 x 7 = 14\n",
      "2 x 8 = 16\n",
      "2 x 9 = 18\n",
      "2 x 10 = 20\n"
     ]
    }
   ],
   "source": [
    "n=1\n",
    "while(n<=10):\n",
    "    print(\"2 x\" ,n , \"=\", 2*n)\n",
    "    n=n+1\n",
    "    "
   ]
  },
  {
   "cell_type": "code",
   "execution_count": 38,
   "id": "8fe26621-a617-49f5-915e-5ad20521b02b",
   "metadata": {},
   "outputs": [
    {
     "name": "stdin",
     "output_type": "stream",
     "text": [
      "enter a number: 12\n"
     ]
    },
    {
     "name": "stdout",
     "output_type": "stream",
     "text": [
      "12 x 1 = 12\n",
      "12 x 2 = 24\n",
      "12 x 3 = 36\n",
      "12 x 4 = 48\n",
      "12 x 5 = 60\n",
      "12 x 6 = 72\n",
      "12 x 7 = 84\n",
      "12 x 8 = 96\n",
      "12 x 9 = 108\n",
      "12 x 10 = 120\n"
     ]
    }
   ],
   "source": [
    "number= int(input(\"enter a number:\"))\n",
    "n=1\n",
    "while(n<=10):\n",
    "    print(number ,\"x\",n, \"=\", number*n)\n",
    "    n=n+1"
   ]
  },
  {
   "cell_type": "code",
   "execution_count": 11,
   "id": "b104b2f5-3812-4998-b853-7772d521b245",
   "metadata": {},
   "outputs": [
    {
     "name": "stdin",
     "output_type": "stream",
     "text": [
      "table: 3\n"
     ]
    },
    {
     "name": "stdout",
     "output_type": "stream",
     "text": [
      "3 x 1 = 6\n",
      "3 x 3 = 6\n",
      "3 x 5 = 6\n",
      "3 x 7 = 6\n",
      "3 x 9 = 6\n",
      "3 x 11 = 6\n",
      "3 x 13 = 6\n",
      "3 x 15 = 6\n",
      "3 x 17 = 6\n",
      "3 x 19 = 6\n"
     ]
    }
   ],
   "source": [
    "num= int(input(\"table:\"))\n",
    "n= 1\n",
    "while(n<20):\n",
    "    print(num,\"x\",n, \"=\",num*2)\n",
    "    n=n+2"
   ]
  },
  {
   "cell_type": "code",
   "execution_count": null,
   "id": "e8e50887-7eaa-4954-831b-de967e3821c4",
   "metadata": {},
   "outputs": [],
   "source": []
  }
 ],
 "metadata": {
  "kernelspec": {
   "display_name": "Python 3 (ipykernel)",
   "language": "python",
   "name": "python3"
  },
  "language_info": {
   "codemirror_mode": {
    "name": "ipython",
    "version": 3
   },
   "file_extension": ".py",
   "mimetype": "text/x-python",
   "name": "python",
   "nbconvert_exporter": "python",
   "pygments_lexer": "ipython3",
   "version": "3.11.7"
  }
 },
 "nbformat": 4,
 "nbformat_minor": 5
}

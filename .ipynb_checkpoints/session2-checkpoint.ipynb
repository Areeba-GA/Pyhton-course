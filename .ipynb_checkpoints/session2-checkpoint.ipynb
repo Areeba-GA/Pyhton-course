{
 "cells": [
  {
   "cell_type": "code",
   "execution_count": 86,
   "id": "6ad8c003-d3ee-4ff7-8e17-9c70b9bb9a0c",
   "metadata": {},
   "outputs": [],
   "source": [
    "name=\"ali\""
   ]
  },
  {
   "cell_type": "code",
   "execution_count": 87,
   "id": "dc4c346e-141e-49ec-b959-7b8ea9db7a6f",
   "metadata": {},
   "outputs": [
    {
     "data": {
      "text/plain": [
       "int"
      ]
     },
     "execution_count": 87,
     "metadata": {},
     "output_type": "execute_result"
    }
   ],
   "source": [
    "type(age)"
   ]
  },
  {
   "cell_type": "code",
   "execution_count": 88,
   "id": "8143b4f9-74b0-4792-8fc2-0167098e4b5d",
   "metadata": {},
   "outputs": [
    {
     "data": {
      "text/plain": [
       "86"
      ]
     },
     "execution_count": 88,
     "metadata": {},
     "output_type": "execute_result"
    }
   ],
   "source": [
    "age*2"
   ]
  },
  {
   "cell_type": "markdown",
   "id": "9c60d6b4-c01d-406f-ab65-8502154e28eb",
   "metadata": {},
   "source": [
    "# the arithmetic operator in Python "
   ]
  },
  {
   "cell_type": "markdown",
   "id": "ba134a96-8848-488b-b469-53f832df20f5",
   "metadata": {},
   "source": [
    "> there are several arithmetic operator in python like\n",
    " 1. addition      +\n",
    " 2. subtraction    -\n",
    " 3. multiplication   *\n",
    " 4. division       /\n",
    " 5. exponent       **\n",
    " 6. moduuls       %"
   ]
  },
  {
   "cell_type": "code",
   "execution_count": 31,
   "id": "85b2f74f-23b7-4d48-99f6-8f3d6afa07d7",
   "metadata": {},
   "outputs": [],
   "source": [
    "# addition \n",
    "n1=2\n",
    "n2=5"
   ]
  },
  {
   "cell_type": "code",
   "execution_count": 32,
   "id": "9d323627-98b9-493f-b431-76f4df96a71c",
   "metadata": {},
   "outputs": [
    {
     "data": {
      "text/plain": [
       "7"
      ]
     },
     "execution_count": 32,
     "metadata": {},
     "output_type": "execute_result"
    }
   ],
   "source": [
    "n1+n2"
   ]
  },
  {
   "cell_type": "code",
   "execution_count": 33,
   "id": "1e9b76f9-9ad0-411f-9353-4cabedbeb706",
   "metadata": {},
   "outputs": [
    {
     "data": {
      "text/plain": [
       "3"
      ]
     },
     "execution_count": 33,
     "metadata": {},
     "output_type": "execute_result"
    }
   ],
   "source": [
    "n2-n1"
   ]
  },
  {
   "cell_type": "code",
   "execution_count": 34,
   "id": "f9f64d4c-8f3f-46ce-b986-f419369d30bb",
   "metadata": {},
   "outputs": [
    {
     "data": {
      "text/plain": [
       "10"
      ]
     },
     "execution_count": 34,
     "metadata": {},
     "output_type": "execute_result"
    }
   ],
   "source": [
    "n1*n2"
   ]
  },
  {
   "cell_type": "code",
   "execution_count": 35,
   "id": "ba6f569b-d17c-4dce-8052-a97e1dc31317",
   "metadata": {},
   "outputs": [
    {
     "data": {
      "text/plain": [
       "2.5"
      ]
     },
     "execution_count": 35,
     "metadata": {},
     "output_type": "execute_result"
    }
   ],
   "source": [
    "n2/n1"
   ]
  },
  {
   "cell_type": "code",
   "execution_count": 36,
   "id": "3badf201-6b29-4b6b-9941-67b48c608d10",
   "metadata": {},
   "outputs": [
    {
     "data": {
      "text/plain": [
       "1"
      ]
     },
     "execution_count": 36,
     "metadata": {},
     "output_type": "execute_result"
    }
   ],
   "source": [
    "n2 % n1"
   ]
  },
  {
   "cell_type": "code",
   "execution_count": 37,
   "id": "f993db60-408d-4673-a039-35bc5b27d694",
   "metadata": {},
   "outputs": [
    {
     "data": {
      "text/plain": [
       "25"
      ]
     },
     "execution_count": 37,
     "metadata": {},
     "output_type": "execute_result"
    }
   ],
   "source": [
    "n2**n1"
   ]
  },
  {
   "cell_type": "code",
   "execution_count": 38,
   "id": "1b9bb241-2698-4426-9aaa-b8fe1c8c1c6a",
   "metadata": {},
   "outputs": [
    {
     "data": {
      "text/plain": [
       "8"
      ]
     },
     "execution_count": 38,
     "metadata": {},
     "output_type": "execute_result"
    }
   ],
   "source": [
    "2**3"
   ]
  },
  {
   "cell_type": "code",
   "execution_count": 40,
   "id": "32924018-9da6-42c0-b101-cf55de793e16",
   "metadata": {},
   "outputs": [
    {
     "data": {
      "text/plain": [
       "32"
      ]
     },
     "execution_count": 40,
     "metadata": {},
     "output_type": "execute_result"
    }
   ],
   "source": [
    "n1**n2"
   ]
  },
  {
   "cell_type": "markdown",
   "id": "a7f7f4b7-fda3-4976-a621-27813e59abe3",
   "metadata": {},
   "source": [
    " find a percentage of marks of student if he git the marks in these subjects as follows \n",
    " 1. physics 56/100\n",
    " 2. chem 67/100\n",
    " 3. urdu 87/100\n",
    " 4. cs 78/100"
   ]
  },
  {
   "cell_type": "code",
   "execution_count": 44,
   "id": "19c7ffad-c08c-4953-b475-064e54f12f28",
   "metadata": {},
   "outputs": [],
   "source": [
    "phy=56\n",
    "chem=67\n",
    "urdu=87\n",
    "cs=78\n",
    "totalmarks=phy+chem+urdu+cs"
   ]
  },
  {
   "cell_type": "code",
   "execution_count": 45,
   "id": "ae00e15f-aa58-4ad1-b397-a12a358f88c0",
   "metadata": {},
   "outputs": [
    {
     "data": {
      "text/plain": [
       "288"
      ]
     },
     "execution_count": 45,
     "metadata": {},
     "output_type": "execute_result"
    }
   ],
   "source": [
    "totalmarks"
   ]
  },
  {
   "cell_type": "code",
   "execution_count": 46,
   "id": "ac3fcf83-99b7-4ea6-90fe-170139057280",
   "metadata": {},
   "outputs": [],
   "source": [
    "perc=totalmarks*100/400"
   ]
  },
  {
   "cell_type": "code",
   "execution_count": 47,
   "id": "930dc00d-b372-43ea-8af0-aad097b417af",
   "metadata": {},
   "outputs": [
    {
     "data": {
      "text/plain": [
       "72.0"
      ]
     },
     "execution_count": 47,
     "metadata": {},
     "output_type": "execute_result"
    }
   ],
   "source": [
    "perc"
   ]
  },
  {
   "cell_type": "code",
   "execution_count": 48,
   "id": "f5ebb5f4-475b-4bb6-8603-c5592987c502",
   "metadata": {},
   "outputs": [
    {
     "name": "stdout",
     "output_type": "stream",
     "text": [
      "the percentage is: 72.0\n"
     ]
    }
   ],
   "source": [
    "print(\"the percentage is:\",perc)"
   ]
  },
  {
   "cell_type": "code",
   "execution_count": 49,
   "id": "34424810-975c-4624-aa07-54463b61ad4d",
   "metadata": {},
   "outputs": [
    {
     "name": "stdout",
     "output_type": "stream",
     "text": [
      "totalk marks of student: 288\n"
     ]
    }
   ],
   "source": [
    "print(\"totalk marks of student:\",totalmarks)"
   ]
  },
  {
   "cell_type": "code",
   "execution_count": 59,
   "id": "04da64bb-91eb-44c1-b839-99652bb1aeb7",
   "metadata": {},
   "outputs": [
    {
     "name": "stdout",
     "output_type": "stream",
     "text": [
      "the marks of physics: 56\n",
      "the marks of chemistry: 67\n",
      "the marks of urdu: 87\n",
      "the marks of computer science: 78\n"
     ]
    }
   ],
   "source": [
    "print(\"the marks of physics:\",phy)\n",
    "print(\"the marks of chemistry:\",chem)\n",
    "print(\"the marks of urdu:\",urdu)\n",
    "print(\"the marks of computer science:\",cs)"
   ]
  },
  {
   "cell_type": "code",
   "execution_count": 60,
   "id": "abed161f-776f-4f0c-b461-e8d23aaf5c2e",
   "metadata": {},
   "outputs": [],
   "source": [
    "shirt1=750\n",
    "shirt2=350\n",
    "shirt3=450\n",
    "totalamount=shirt1+shirt2+shirt3"
   ]
  },
  {
   "cell_type": "code",
   "execution_count": 72,
   "id": "c77c27b4-ee2d-4232-ad5f-b863929f00a3",
   "metadata": {},
   "outputs": [
    {
     "name": "stdout",
     "output_type": "stream",
     "text": [
      "totalamount is: 1550\n"
     ]
    }
   ],
   "source": [
    "print(\"totalamount is:\",totalamount)"
   ]
  },
  {
   "cell_type": "code",
   "execution_count": 69,
   "id": "b3746e3b-0472-4996-837b-c7c2c4438fde",
   "metadata": {},
   "outputs": [],
   "source": [
    "discount=10/100*totalamount"
   ]
  },
  {
   "cell_type": "code",
   "execution_count": 70,
   "id": "1efcf2be-c21d-4663-b09e-cc3ab9173ba7",
   "metadata": {},
   "outputs": [
    {
     "name": "stdout",
     "output_type": "stream",
     "text": [
      "discount obtain is: 155.0\n"
     ]
    }
   ],
   "source": [
    "print(\"discount obtain is:\",discount)"
   ]
  },
  {
   "cell_type": "code",
   "execution_count": 73,
   "id": "9c6645e9-da53-4197-a6af-ce0ea40f12f7",
   "metadata": {},
   "outputs": [],
   "source": [
    "amount_paied=totalamount-discount"
   ]
  },
  {
   "cell_type": "code",
   "execution_count": 74,
   "id": "d7a0b134-192f-4015-8ba1-5b59f774469c",
   "metadata": {},
   "outputs": [
    {
     "name": "stdout",
     "output_type": "stream",
     "text": [
      "amount to be paied is: 1395.0\n"
     ]
    }
   ],
   "source": [
    "print(\"amount to be paied is:\",amount_paied)"
   ]
  },
  {
   "cell_type": "code",
   "execution_count": 91,
   "id": "820d6ca2-f8d6-4cdc-9ea2-21dafb53c86f",
   "metadata": {},
   "outputs": [
    {
     "name": "stdout",
     "output_type": "stream",
     "text": [
      "totalamount is: 21000\n"
     ]
    }
   ],
   "source": [
    "shoes1=7000\n",
    "shoes2=8000\n",
    "shoes3=6000\n",
    "totalamount=shoes1+shoes2+shoes3\n",
    "print(\"totalamount is:\",totalamount)"
   ]
  },
  {
   "cell_type": "code",
   "execution_count": 92,
   "id": "da4aa971-a34f-4982-93f4-b295a5ece949",
   "metadata": {},
   "outputs": [],
   "source": [
    "perc=21000*100/30000"
   ]
  },
  {
   "cell_type": "code",
   "execution_count": 93,
   "id": "ba244de8-af23-4047-b522-0ba0dc2c883d",
   "metadata": {},
   "outputs": [
    {
     "data": {
      "text/plain": [
       "70.0"
      ]
     },
     "execution_count": 93,
     "metadata": {},
     "output_type": "execute_result"
    }
   ],
   "source": [
    "perc"
   ]
  },
  {
   "cell_type": "code",
   "execution_count": 94,
   "id": "6fae940f-d6a0-41e2-ab86-87a35a169fe3",
   "metadata": {},
   "outputs": [],
   "source": [
    "discount=20/100*totalamount"
   ]
  },
  {
   "cell_type": "code",
   "execution_count": 95,
   "id": "bd7db7d3-d86a-4fa1-b625-46a51fbff510",
   "metadata": {},
   "outputs": [
    {
     "name": "stdout",
     "output_type": "stream",
     "text": [
      "the discount is: 4200.0\n"
     ]
    }
   ],
   "source": [
    "print(\"the discount is:\",discount)"
   ]
  },
  {
   "cell_type": "code",
   "execution_count": 6,
   "id": "ca2e2d9e-8aa7-45ab-8feb-db202de977e3",
   "metadata": {},
   "outputs": [],
   "source": [
    "ali=90\n",
    "umer=70\n",
    "aliza=80\n",
    "totalmarks=ali+umer+aliza"
   ]
  },
  {
   "cell_type": "code",
   "execution_count": 7,
   "id": "a37fd671-021b-4bed-90f7-30dc05946166",
   "metadata": {},
   "outputs": [
    {
     "data": {
      "text/plain": [
       "240"
      ]
     },
     "execution_count": 7,
     "metadata": {},
     "output_type": "execute_result"
    }
   ],
   "source": [
    "totalmarks"
   ]
  },
  {
   "cell_type": "code",
   "execution_count": 8,
   "id": "007ffd38-3ff7-4995-a41c-3b2643e6e27c",
   "metadata": {},
   "outputs": [],
   "source": [
    "average=totalmarks/3"
   ]
  },
  {
   "cell_type": "code",
   "execution_count": 9,
   "id": "1fab9683-31cd-41bd-9543-0a5d3aeb613f",
   "metadata": {},
   "outputs": [
    {
     "data": {
      "text/plain": [
       "80.0"
      ]
     },
     "execution_count": 9,
     "metadata": {},
     "output_type": "execute_result"
    }
   ],
   "source": [
    "average"
   ]
  },
  {
   "cell_type": "code",
   "execution_count": 11,
   "id": "c879dc7a-7af3-473e-8ff6-04357ddda9dc",
   "metadata": {},
   "outputs": [
    {
     "name": "stdout",
     "output_type": "stream",
     "text": [
      "the average marks of students is: 80.0\n"
     ]
    }
   ],
   "source": [
    "print(\"the average marks of students is:\",average)"
   ]
  },
  {
   "cell_type": "code",
   "execution_count": null,
   "id": "d62c4ec5-8f93-430e-b1a0-c51a3e5f535a",
   "metadata": {},
   "outputs": [],
   "source": [
    "#write a program to calculate area of triangle"
   ]
  },
  {
   "cell_type": "code",
   "execution_count": null,
   "id": "c81cc1fd-6f0e-4243-8b43-6e33642cb6d9",
   "metadata": {},
   "outputs": [],
   "source": [
    "area=length*width"
   ]
  },
  {
   "cell_type": "code",
   "execution_count": 22,
   "id": "eb16d596-d225-45c7-be04-e7948d6306a1",
   "metadata": {},
   "outputs": [
    {
     "data": {
      "text/plain": [
       "3575"
      ]
     },
     "execution_count": 22,
     "metadata": {},
     "output_type": "execute_result"
    }
   ],
   "source": [
    "length=55\n",
    "width=65\n",
    "area"
   ]
  },
  {
   "cell_type": "code",
   "execution_count": null,
   "id": "dfedd82e-c634-4e03-82ad-40a4b7def744",
   "metadata": {},
   "outputs": [],
   "source": []
  },
  {
   "cell_type": "code",
   "execution_count": 28,
   "id": "3ae2eca1-b5c4-451d-b005-d43e0205549f",
   "metadata": {},
   "outputs": [
    {
     "name": "stdout",
     "output_type": "stream",
     "text": [
      "employee 1 saalary before bonus: 55000\n",
      "employee 1 salary after bonus: 63250.0\n",
      "employee 2 saalary before bonus: 67000\n",
      "employee 2 salary after bonus: 72025.0\n"
     ]
    }
   ],
   "source": [
    "emp1_sal= 55000\n",
    "emp2_sal= 67000\n",
    "emp1_bonus = (15/100)* emp1_sal\n",
    "emp1_total_sal = emp1_bonus+emp1_sal\n",
    "\n",
    "print(\"employee 1 saalary before bonus:\",emp1_sal)\n",
    "print(\"employee 1 salary after bonus:\",emp1_total_sal)\n",
    "\n",
    "emp2_bonus = (7.5/100)* emp2_sal\n",
    "emp2_total_sal = emp2_bonus+emp2_sal\n",
    "\n",
    "print(\"employee 2 saalary before bonus:\",emp2_sal)\n",
    "print(\"employee 2 salary after bonus:\",emp2_total_sal)\n"
   ]
  },
  {
   "cell_type": "code",
   "execution_count": 10,
   "id": "83717466-3cb3-471d-befc-d8db8ed7abf7",
   "metadata": {},
   "outputs": [
    {
     "name": "stdout",
     "output_type": "stream",
     "text": [
      "emp salary before bonus: 4500\n",
      "emp salary after bonus: 5175.0\n",
      "emp salary before bonus: 7800\n",
      "emp salary after bonus: 8190.0\n"
     ]
    }
   ],
   "source": [
    "emp1_sal= 4500\n",
    "emp2_sal= 7800\n",
    "emp1_bonus= (15/100)*emp1_sal\n",
    "emp1_total_salary= emp1_bonus+emp1_sal\n",
    "print(\"emp salary before bonus:\",emp1_sal)\n",
    "print(\"emp salary after bonus:\",emp1_total_salary)\n",
    "\n",
    "emp2_bonus= (5/100)*7800\n",
    "emp2_total_salary= emp2_sal+emp2_bonus\n",
    "print(\"emp salary before bonus:\",emp2_sal)\n",
    "print(\"emp salary after bonus:\",emp2_total_salary)"
   ]
  },
  {
   "cell_type": "code",
   "execution_count": null,
   "id": "26c445d8-3196-4af3-93b5-2d309ebdb782",
   "metadata": {},
   "outputs": [],
   "source": []
  },
  {
   "cell_type": "code",
   "execution_count": null,
   "id": "2be6fb69-59ef-4c99-bd19-a99187547033",
   "metadata": {},
   "outputs": [],
   "source": []
  }
 ],
 "metadata": {
  "kernelspec": {
   "display_name": "Python 3 (ipykernel)",
   "language": "python",
   "name": "python3"
  },
  "language_info": {
   "codemirror_mode": {
    "name": "ipython",
    "version": 3
   },
   "file_extension": ".py",
   "mimetype": "text/x-python",
   "name": "python",
   "nbconvert_exporter": "python",
   "pygments_lexer": "ipython3",
   "version": "3.11.7"
  }
 },
 "nbformat": 4,
 "nbformat_minor": 5
}

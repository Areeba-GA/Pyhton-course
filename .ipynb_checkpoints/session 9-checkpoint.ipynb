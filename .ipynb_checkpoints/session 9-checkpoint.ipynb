{
 "cells": [
  {
   "cell_type": "markdown",
   "id": "a54c0a29-5513-434e-81e9-6cc0736ec5f0",
   "metadata": {},
   "source": [
    "# oop"
   ]
  },
  {
   "cell_type": "code",
   "execution_count": 1,
   "id": "23c4ba28-938b-44ef-b5ec-6a1475c16fab",
   "metadata": {},
   "outputs": [
    {
     "name": "stdout",
     "output_type": "stream",
     "text": [
      "i am learning oop\n"
     ]
    }
   ],
   "source": [
    "print(\"i am learning oop\")\n"
   ]
  },
  {
   "cell_type": "code",
   "execution_count": null,
   "id": "ae530e5c-009f-487a-aa51-52bc5f0ac680",
   "metadata": {},
   "outputs": [],
   "source": []
  }
 ],
 "metadata": {
  "kernelspec": {
   "display_name": "Python 3 (ipykernel)",
   "language": "python",
   "name": "python3"
  },
  "language_info": {
   "codemirror_mode": {
    "name": "ipython",
    "version": 3
   },
   "file_extension": ".py",
   "mimetype": "text/x-python",
   "name": "python",
   "nbconvert_exporter": "python",
   "pygments_lexer": "ipython3",
   "version": "3.11.7"
  }
 },
 "nbformat": 4,
 "nbformat_minor": 5
}

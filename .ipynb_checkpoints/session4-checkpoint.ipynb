{
 "cells": [
  {
   "cell_type": "markdown",
   "id": "7e0e1466-0720-4ce1-8ea9-993876266459",
   "metadata": {},
   "source": [
    "# types of programming \n",
    "1. sequential\n",
    "   > the programming in which code is written in a sequence and executed in that sequence as well\n",
    "3. selection\n",
    "   > the code is executed in a way that one block of code is executed \n",
    "5. looping\n",
    "   > code executed till given number of times\n",
    "7. modular\n",
    "   >oop"
   ]
  },
  {
   "cell_type": "markdown",
   "id": "c19075fa-be9f-4bf0-b95b-5c87191c1c4d",
   "metadata": {},
   "source": [
    "## Selection Programming\n",
    " 1. if\n",
    " 2. if else\n",
    " 3. if-elif\n",
    "    > these all structures use a condition that results in the form of true or false , based on true or false we select a block of code that is to be executed"
   ]
  },
  {
   "cell_type": "code",
   "execution_count": 6,
   "id": "000bfbe4-48bf-43d3-9b8c-a1eed661d8f8",
   "metadata": {},
   "outputs": [
    {
     "name": "stdin",
     "output_type": "stream",
     "text": [
      "Enter your makrs: 30\n"
     ]
    }
   ],
   "source": [
    "\n"
   ]
  },
  {
   "cell_type": "code",
   "execution_count": 10,
   "id": "fa9ba2d4-5dd2-4ca0-b3af-f8c0742c1347",
   "metadata": {},
   "outputs": [
    {
     "name": "stdin",
     "output_type": "stream",
     "text": [
      "Enter your makrs: 39\n"
     ]
    },
    {
     "name": "stdout",
     "output_type": "stream",
     "text": [
      "you are fail\n"
     ]
    }
   ],
   "source": [
    "marks = int(input(\"Enter your makrs:\"))\n",
    "if(marks >= 40):\n",
    "    print(\"you are pass\")\n",
    "else:\n",
    "    print(\"you are fail\")"
   ]
  },
  {
   "cell_type": "code",
   "execution_count": 4,
   "id": "b92088f5-5f7c-4dea-be6a-5eb10ae53ee3",
   "metadata": {},
   "outputs": [
    {
     "data": {
      "text/plain": [
       "False"
      ]
     },
     "execution_count": 4,
     "metadata": {},
     "output_type": "execute_result"
    }
   ],
   "source": [
    "marks > 40"
   ]
  },
  {
   "cell_type": "code",
   "execution_count": 16,
   "id": "e6575930-9a91-4d8c-a2ca-5c2a977467e0",
   "metadata": {},
   "outputs": [
    {
     "name": "stdin",
     "output_type": "stream",
     "text": [
      "enter a number: 0\n"
     ]
    },
    {
     "name": "stdout",
     "output_type": "stream",
     "text": [
      "n is 0\n"
     ]
    }
   ],
   "source": [
    "n = int(input(\"enter a number:\"))\n",
    "\n",
    "if( n >  0):\n",
    "    print(\"n is positive\")\n",
    "elif (n < 0):\n",
    "    print(\"n is negative\")\n",
    "else:\n",
    "    print(\"n is 0\")"
   ]
  },
  {
   "cell_type": "code",
   "execution_count": 33,
   "id": "ade06e7a-fb04-49c1-99ff-03cf800c4d54",
   "metadata": {},
   "outputs": [
    {
     "name": "stdin",
     "output_type": "stream",
     "text": [
      "enter a number: 9\n"
     ]
    },
    {
     "name": "stdout",
     "output_type": "stream",
     "text": [
      "n is odd\n"
     ]
    }
   ],
   "source": [
    "n= int(input(\"enter a number:\",))\n",
    "if(n % 2 ==0):\n",
    "    print(\"n is even\")\n",
    "else:\n",
    "     print(\"n is odd\")"
   ]
  },
  {
   "cell_type": "code",
   "execution_count": 39,
   "id": "b4ae566d-49ee-4a2f-b2ea-579031e32071",
   "metadata": {},
   "outputs": [
    {
     "name": "stdout",
     "output_type": "stream",
     "text": [
      "1:enter 1 for update  your pin code\n",
      "2:enter 2 for send money\n",
      "3:enter 3 for receive money\n",
      "4:enter 4 for checking balance\n",
      "5:enter 5 for balance\n"
     ]
    }
   ],
   "source": []
  },
  {
   "cell_type": "code",
   "execution_count": 46,
   "id": "e059e157-3cc8-4a47-8ec3-b98cedc5a54b",
   "metadata": {},
   "outputs": [
    {
     "name": "stdout",
     "output_type": "stream",
     "text": [
      "1:enter 1 for update  your pin code\n",
      "2:enter 2 for send money\n",
      "3:enter 3 for receive money\n",
      "4:enter 4 for checking balance\n",
      "5:enter 5 for balance\n"
     ]
    },
    {
     "name": "stdin",
     "output_type": "stream",
     "text": [
      "enter a number: 3\n"
     ]
    },
    {
     "name": "stdout",
     "output_type": "stream",
     "text": [
      "you have received 3000\n"
     ]
    }
   ],
   "source": [
    "print('''1:enter 1 for update  your pin code\n",
    "2:enter 2 for send money\n",
    "3:enter 3 for receive money\n",
    "4:enter 4 for checking balance\n",
    "5:enter 5 for balance''')\n",
    "\n",
    "n= int(input(\"enter a number:\",))\n",
    "\n",
    "if( n == 1):\n",
    "    print(\"your pin code is 3454\")\n",
    "elif(n == 2):\n",
    "    print(\"your money has send\")\n",
    "elif( n== 3):\n",
    "    print(\"you have received 3000\")\n",
    "elif( n==4):\n",
    "    print(\"your balance is 8000\")\n",
    "else:\n",
    "    ptint(\"current balance is 1000\")"
   ]
  },
  {
   "cell_type": "code",
   "execution_count": 1,
   "id": "fac44c32-9e0f-418b-a340-e5cfb4ddd238",
   "metadata": {},
   "outputs": [
    {
     "name": "stdin",
     "output_type": "stream",
     "text": [
      "enter days of week: 1\n"
     ]
    },
    {
     "name": "stdout",
     "output_type": "stream",
     "text": [
      "monday\n"
     ]
    }
   ],
   "source": [
    "n= int(input(\"enter days of week:\",))\n",
    "if( n==1):\n",
    "    print(\"monday\")\n",
    "elif( n==2):\n",
    "    print(\"tuesday\")\n",
    "elif( n==3):\n",
    "    print(\"wednesday\")\n",
    "elif( n==4):\n",
    "    print(\"thursday\")\n",
    "elif( n==5):\n",
    "    print(\"friday\")\n",
    "elif( n==6):\n",
    "    print(\"saturday\")\n",
    "elif( n==7):\n",
    "    print(\"sunday\")\n",
    "else:\n",
    "    print(\"wrong input\")"
   ]
  },
  {
   "cell_type": "code",
   "execution_count": 13,
   "id": "cfe6ff99-3a43-4604-9815-d6e1e1fc08e8",
   "metadata": {},
   "outputs": [
    {
     "ename": "SyntaxError",
     "evalue": "invalid syntax. Perhaps you forgot a comma? (2688565089.py, line 12)",
     "output_type": "error",
     "traceback": [
      "\u001b[1;36m  Cell \u001b[1;32mIn[13], line 12\u001b[1;36m\u001b[0m\n\u001b[1;33m    elif( testscore 80_89):\u001b[0m\n\u001b[1;37m          ^\u001b[0m\n\u001b[1;31mSyntaxError\u001b[0m\u001b[1;31m:\u001b[0m invalid syntax. Perhaps you forgot a comma?\n"
     ]
    }
   ],
   "source": [
    "print('''testscore of subjects \n",
    ">=90                A\n",
    "80_89               B\n",
    "70_79               C\n",
    "60_69               D\n",
    "<60                 F''')\n",
    "\n",
    "\n",
    "n= int(input(\"subject of students\"))\n",
    "if( testscore >=90):\n",
    "    print(\"you got A grade\")\n",
    "elif( testscore 80_89):\n",
    "    print(\"you got B grade\")\n",
    "elif( testscore 70_79):\n",
    "    print(\"you got C grade\")\n",
    "elif( testscore 70_79):\n",
    "    print(\"you got D grade\")\n",
    "else:\n",
    "    print(\"you got F grade\")"
   ]
  },
  {
   "cell_type": "code",
   "execution_count": null,
   "id": "5b4ad45e-099e-4857-807c-27b034e6f723",
   "metadata": {},
   "outputs": [],
   "source": []
  },
  {
   "cell_type": "code",
   "execution_count": null,
   "id": "4f6ad5c1-74b0-4805-a9f6-33896beb5364",
   "metadata": {},
   "outputs": [],
   "source": []
  },
  {
   "cell_type": "code",
   "execution_count": null,
   "id": "16ca1625-a489-4d0b-bbcf-d15103cdbe0f",
   "metadata": {},
   "outputs": [],
   "source": []
  }
 ],
 "metadata": {
  "kernelspec": {
   "display_name": "Python 3 (ipykernel)",
   "language": "python",
   "name": "python3"
  },
  "language_info": {
   "codemirror_mode": {
    "name": "ipython",
    "version": 3
   },
   "file_extension": ".py",
   "mimetype": "text/x-python",
   "name": "python",
   "nbconvert_exporter": "python",
   "pygments_lexer": "ipython3",
   "version": "3.11.7"
  }
 },
 "nbformat": 4,
 "nbformat_minor": 5
}

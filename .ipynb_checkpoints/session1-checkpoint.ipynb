{
 "cells": [
  {
   "cell_type": "code",
   "execution_count": 8,
   "id": "25673ffa-a826-4884-aa84-752e48e47ad1",
   "metadata": {},
   "outputs": [
    {
     "ename": "SyntaxError",
     "evalue": "unterminated string literal (detected at line 1) (2013368089.py, line 1)",
     "output_type": "error",
     "traceback": [
      "\u001b[1;36m  Cell \u001b[1;32mIn[8], line 1\u001b[1;36m\u001b[0m\n\u001b[1;33m    print(\"twinkle twinkle little star\"/nhow i wonder what you are\")\u001b[0m\n\u001b[1;37m                                                                  ^\u001b[0m\n\u001b[1;31mSyntaxError\u001b[0m\u001b[1;31m:\u001b[0m unterminated string literal (detected at line 1)\n"
     ]
    }
   ],
   "source": []
  },
  {
   "cell_type": "code",
   "execution_count": 7,
   "id": "86934e6d-5d5a-4cb0-8d84-ba7ee3f1a365",
   "metadata": {},
   "outputs": [
    {
     "ename": "SyntaxError",
     "evalue": "invalid syntax. Perhaps you forgot a comma? (2989599099.py, line 1)",
     "output_type": "error",
     "traceback": [
      "\u001b[1;36m  Cell \u001b[1;32mIn[7], line 1\u001b[1;36m\u001b[0m\n\u001b[1;33m    print(\"twinkle twinkle little star\"/n\"how i wonder what you are\")\u001b[0m\n\u001b[1;37m          ^\u001b[0m\n\u001b[1;31mSyntaxError\u001b[0m\u001b[1;31m:\u001b[0m invalid syntax. Perhaps you forgot a comma?\n"
     ]
    }
   ],
   "source": []
  },
  {
   "cell_type": "code",
   "execution_count": 1,
   "id": "7a552b76-ae18-4ba8-874e-ad326bd64a9d",
   "metadata": {},
   "outputs": [
    {
     "name": "stdout",
     "output_type": "stream",
     "text": [
      "hello\n"
     ]
    }
   ],
   "source": [
    "print(\"hello\")"
   ]
  },
  {
   "cell_type": "code",
   "execution_count": 2,
   "id": "5d45b3a2-c635-4a70-82bc-305ef4c103bb",
   "metadata": {},
   "outputs": [
    {
     "name": "stdout",
     "output_type": "stream",
     "text": [
      "twinkle twinkle little star\n"
     ]
    }
   ],
   "source": [
    "print(\"twinkle twinkle little star\")"
   ]
  },
  {
   "cell_type": "code",
   "execution_count": 3,
   "id": "86007304-1e7a-48dc-955b-840deb494ed5",
   "metadata": {},
   "outputs": [
    {
     "name": "stdout",
     "output_type": "stream",
     "text": [
      "hello/nworld\n"
     ]
    }
   ],
   "source": [
    "print(\"hello/nworld\")"
   ]
  },
  {
   "cell_type": "code",
   "execution_count": 5,
   "id": "3d03558a-5304-4529-a0e2-c17a85359c70",
   "metadata": {},
   "outputs": [
    {
     "name": "stdout",
     "output_type": "stream",
     "text": [
      "hello\n",
      "world\n"
     ]
    }
   ],
   "source": [
    "print(\"hello\\nworld\")"
   ]
  },
  {
   "cell_type": "code",
   "execution_count": 1,
   "id": "698d7c6b-3f1c-40eb-abb5-e48c952c8b39",
   "metadata": {},
   "outputs": [
    {
     "name": "stdout",
     "output_type": "stream",
     "text": [
      "twinkle twinkle little star\n",
      "how i wonder what you are\n",
      "up above the world so high\n",
      "like a diamond in the sky\n"
     ]
    }
   ],
   "source": [
    "print(\"twinkle twinkle little star\\nhow i wonder what you are\\nup above the world so high\\nlike a diamond in the sky\")"
   ]
  },
  {
   "cell_type": "code",
   "execution_count": 4,
   "id": "a6305829-4128-4fed-bba4-f7729a367392",
   "metadata": {},
   "outputs": [
    {
     "name": "stdout",
     "output_type": "stream",
     "text": [
      "twinkle twinkle little star\n",
      "how i wonder what you are\n",
      "up above the world so high\n",
      "like a diamond in the sky\n"
     ]
    }
   ],
   "source": [
    "print('''twinkle twinkle little star\n",
    "how i wonder what you are\n",
    "up above the world so high\n",
    "like a diamond in the sky''')"
   ]
  },
  {
   "cell_type": "markdown",
   "id": "41f815df-41ea-4865-adf0-8dcef9525ad3",
   "metadata": {},
   "source": [
    "# write a program that sum,subtract,product and difference"
   ]
  },
  {
   "cell_type": "code",
   "execution_count": 1,
   "id": "26c90951-d8e9-4375-9d01-cc710be1acf9",
   "metadata": {},
   "outputs": [
    {
     "name": "stdin",
     "output_type": "stream",
     "text": [
      "number 1: 76\n"
     ]
    }
   ],
   "source": [
    " number1= int(input(\"number 1:\",))"
   ]
  },
  {
   "cell_type": "code",
   "execution_count": 2,
   "id": "b1104fdd-1abe-40ba-97a7-173b2cadcf4f",
   "metadata": {},
   "outputs": [
    {
     "name": "stdin",
     "output_type": "stream",
     "text": [
      "number2: 87\n"
     ]
    }
   ],
   "source": [
    "number2= int(input(\"number2:\",))"
   ]
  },
  {
   "cell_type": "code",
   "execution_count": 3,
   "id": "916176b4-df57-403f-b38b-cde7662bdf53",
   "metadata": {},
   "outputs": [],
   "source": [
    "sum= number1+number2"
   ]
  },
  {
   "cell_type": "code",
   "execution_count": 4,
   "id": "c5e174dc-9170-4ea4-97bc-bd3775d9f5de",
   "metadata": {},
   "outputs": [
    {
     "data": {
      "text/plain": [
       "163"
      ]
     },
     "execution_count": 4,
     "metadata": {},
     "output_type": "execute_result"
    }
   ],
   "source": [
    "sum"
   ]
  },
  {
   "cell_type": "code",
   "execution_count": 5,
   "id": "43e00bf3-cf8c-401d-97eb-5112f8f9953a",
   "metadata": {},
   "outputs": [],
   "source": [
    "difference= number1-number2"
   ]
  },
  {
   "cell_type": "code",
   "execution_count": 6,
   "id": "49574eee-e59f-488d-869d-820772d75dce",
   "metadata": {},
   "outputs": [
    {
     "data": {
      "text/plain": [
       "-11"
      ]
     },
     "execution_count": 6,
     "metadata": {},
     "output_type": "execute_result"
    }
   ],
   "source": [
    "difference"
   ]
  },
  {
   "cell_type": "code",
   "execution_count": 7,
   "id": "d03f6b15-902b-4e71-b0d1-614f05a51d18",
   "metadata": {},
   "outputs": [],
   "source": [
    "product= number1*number2"
   ]
  },
  {
   "cell_type": "code",
   "execution_count": 8,
   "id": "e2f3c294-a1a1-412e-8d33-c0617ab3fced",
   "metadata": {},
   "outputs": [
    {
     "data": {
      "text/plain": [
       "6612"
      ]
     },
     "execution_count": 8,
     "metadata": {},
     "output_type": "execute_result"
    }
   ],
   "source": [
    "product"
   ]
  },
  {
   "cell_type": "code",
   "execution_count": 9,
   "id": "74710a4b-dda3-441d-a339-4c90a5307f42",
   "metadata": {},
   "outputs": [],
   "source": [
    "divident= number1/number2"
   ]
  },
  {
   "cell_type": "code",
   "execution_count": 10,
   "id": "90b088c2-5671-4855-9bab-0e399ebf7185",
   "metadata": {},
   "outputs": [
    {
     "data": {
      "text/plain": [
       "0.8735632183908046"
      ]
     },
     "execution_count": 10,
     "metadata": {},
     "output_type": "execute_result"
    }
   ],
   "source": [
    "divident"
   ]
  },
  {
   "cell_type": "code",
   "execution_count": 11,
   "id": "c0a98101-3bf4-4a39-aaea-9a318df6d29e",
   "metadata": {},
   "outputs": [
    {
     "name": "stdout",
     "output_type": "stream",
     "text": [
      "the sum,subtract,product,difference: 163 -11 6612 0.8735632183908046\n"
     ]
    }
   ],
   "source": [
    "print(\"the sum,subtract,product,difference:\",sum,\n",
    "      difference,\n",
    "      product,\n",
    "      divident)"
   ]
  },
  {
   "cell_type": "markdown",
   "id": "4882b866-7d74-4f9f-b2f1-7ecf0e818381",
   "metadata": {},
   "source": [
    "# square of two numbers and cube of two numbers"
   ]
  },
  {
   "cell_type": "code",
   "execution_count": 12,
   "id": "f859286f-e840-4139-834e-db304879ad8f",
   "metadata": {},
   "outputs": [
    {
     "name": "stdin",
     "output_type": "stream",
     "text": [
      "1st number 2\n"
     ]
    }
   ],
   "source": [
    "number1= int(input(\"1st number\"))"
   ]
  },
  {
   "cell_type": "code",
   "execution_count": 13,
   "id": "9b5ce0a2-2e5a-4630-b775-cfc48444bf58",
   "metadata": {},
   "outputs": [
    {
     "name": "stdin",
     "output_type": "stream",
     "text": [
      "2nd number: 2\n"
     ]
    }
   ],
   "source": [
    "number2= int(input(\"2nd number:\",))"
   ]
  },
  {
   "cell_type": "code",
   "execution_count": 14,
   "id": "974c1ff0-fd83-4f3c-ac5d-5b90fb52921e",
   "metadata": {},
   "outputs": [],
   "source": [
    "square= number1*number1"
   ]
  },
  {
   "cell_type": "code",
   "execution_count": 15,
   "id": "b83afe72-df8b-469d-a74f-88adb1a6deb1",
   "metadata": {},
   "outputs": [
    {
     "data": {
      "text/plain": [
       "4"
      ]
     },
     "execution_count": 15,
     "metadata": {},
     "output_type": "execute_result"
    }
   ],
   "source": [
    "square"
   ]
  },
  {
   "cell_type": "code",
   "execution_count": 16,
   "id": "cf2307bd-9d1f-47e8-b7c2-f9ca7ef67e2f",
   "metadata": {},
   "outputs": [],
   "source": [
    "square2= number2*number2"
   ]
  },
  {
   "cell_type": "code",
   "execution_count": 17,
   "id": "e25cf698-2e52-4f52-8c43-7323b0644da0",
   "metadata": {},
   "outputs": [
    {
     "data": {
      "text/plain": [
       "4"
      ]
     },
     "execution_count": 17,
     "metadata": {},
     "output_type": "execute_result"
    }
   ],
   "source": [
    "square2"
   ]
  },
  {
   "cell_type": "code",
   "execution_count": 18,
   "id": "37e2b52f-f9f2-4609-be4f-a6b100625a80",
   "metadata": {},
   "outputs": [],
   "source": [
    "cube1= number1*number1*number1"
   ]
  },
  {
   "cell_type": "code",
   "execution_count": 19,
   "id": "51a9eb2f-943c-40ba-bbe7-6e8a3926e0f2",
   "metadata": {},
   "outputs": [
    {
     "data": {
      "text/plain": [
       "8"
      ]
     },
     "execution_count": 19,
     "metadata": {},
     "output_type": "execute_result"
    }
   ],
   "source": [
    "cube1"
   ]
  },
  {
   "cell_type": "code",
   "execution_count": 20,
   "id": "232dbb0f-bb0a-4aaa-a794-aef5bde0c43a",
   "metadata": {},
   "outputs": [],
   "source": [
    "cube2= number2*number2*number2"
   ]
  },
  {
   "cell_type": "code",
   "execution_count": 21,
   "id": "a1fe6cb4-21bb-4005-aed1-51cc0e885537",
   "metadata": {},
   "outputs": [
    {
     "data": {
      "text/plain": [
       "8"
      ]
     },
     "execution_count": 21,
     "metadata": {},
     "output_type": "execute_result"
    }
   ],
   "source": [
    "cube2"
   ]
  },
  {
   "cell_type": "code",
   "execution_count": 22,
   "id": "84370594-466a-4b98-9c84-a96149a12739",
   "metadata": {},
   "outputs": [
    {
     "name": "stdout",
     "output_type": "stream",
     "text": [
      "the square of number 1 is: 4\n",
      "the square of number 2 is: 4\n",
      "the cube of number 1 is: 8\n",
      "the cube of number 2 is: 8\n"
     ]
    }
   ],
   "source": [
    "print(\"the square of number 1 is:\",square)\n",
    "print(\"the square of number 2 is:\",square2)\n",
    "print(\"the cube of number 1 is:\",cube1)\n",
    "print(\"the cube of number 2 is:\",cube2)"
   ]
  },
  {
   "cell_type": "markdown",
   "id": "f6b7a438-d2bb-4581-a2e8-1f777bce7173",
   "metadata": {},
   "source": [
    "## program no.5"
   ]
  },
  {
   "cell_type": "code",
   "execution_count": 23,
   "id": "f30686bc-4f45-4809-b9cd-be174635a77d",
   "metadata": {},
   "outputs": [
    {
     "name": "stdin",
     "output_type": "stream",
     "text": [
      "areeba: hello\n"
     ]
    }
   ],
   "source": [
    "name= (input(\"areeba:\",))\n"
   ]
  },
  {
   "cell_type": "markdown",
   "id": "88e285d0-a791-44f6-aa99-7e833dbf9845",
   "metadata": {},
   "source": [
    "## session 4 program"
   ]
  },
  {
   "cell_type": "code",
   "execution_count": 29,
   "id": "545c3a36-c391-4aea-b65d-9f45e6d1e6f2",
   "metadata": {},
   "outputs": [
    {
     "name": "stdin",
     "output_type": "stream",
     "text": [
      "english marks: 90\n"
     ]
    }
   ],
   "source": [
    "marks= int(input(\"english marks:\",))"
   ]
  },
  {
   "cell_type": "code",
   "execution_count": 13,
   "id": "2a852c0b-b67e-4c57-864a-03e00cc7d219",
   "metadata": {},
   "outputs": [
    {
     "name": "stdin",
     "output_type": "stream",
     "text": [
      "urdu marks: 80\n"
     ]
    }
   ],
   "source": [
    "marks= int(input(\"urdu marks:\",))"
   ]
  },
  {
   "cell_type": "code",
   "execution_count": 14,
   "id": "745147e8-f5b2-4979-9cfc-f736777a9dec",
   "metadata": {},
   "outputs": [
    {
     "name": "stdin",
     "output_type": "stream",
     "text": [
      "physics marks: 78\n"
     ]
    }
   ],
   "source": [
    "marks= int(input(\"physics marks:\",))"
   ]
  },
  {
   "cell_type": "code",
   "execution_count": 15,
   "id": "c34d28fd-5463-4c47-920c-e4ad7bec50de",
   "metadata": {},
   "outputs": [
    {
     "name": "stdin",
     "output_type": "stream",
     "text": [
      "chemistry marks: 70\n"
     ]
    }
   ],
   "source": [
    "marks= int(input(\"chemistry marks:\",))"
   ]
  },
  {
   "cell_type": "code",
   "execution_count": 16,
   "id": "ec86ad57-442c-4b0b-aaab-0a742810aa46",
   "metadata": {},
   "outputs": [
    {
     "name": "stdin",
     "output_type": "stream",
     "text": [
      "computer marks: 87\n"
     ]
    }
   ],
   "source": [
    "marks= int(input(\"computer marks:\",))"
   ]
  },
  {
   "cell_type": "code",
   "execution_count": 17,
   "id": "75d314d0-f280-4551-a604-e76a77941061",
   "metadata": {},
   "outputs": [
    {
     "name": "stdin",
     "output_type": "stream",
     "text": [
      "maths marks: 70\n"
     ]
    }
   ],
   "source": [
    "marks= int(input(\"maths marks:\",))"
   ]
  },
  {
   "cell_type": "code",
   "execution_count": 18,
   "id": "2b0c1a36-3e53-47de-9fd8-2a63b881d091",
   "metadata": {},
   "outputs": [],
   "source": [
    "sum= english+urdu+physics+chemistry+computer+maths"
   ]
  },
  {
   "cell_type": "code",
   "execution_count": 19,
   "id": "99b40c31-6fdd-4617-b852-0d1cb1363b9c",
   "metadata": {},
   "outputs": [
    {
     "data": {
      "text/plain": [
       "496"
      ]
     },
     "execution_count": 19,
     "metadata": {},
     "output_type": "execute_result"
    }
   ],
   "source": [
    "sum"
   ]
  },
  {
   "cell_type": "code",
   "execution_count": 20,
   "id": "ed7970fa-3dc3-4052-8b54-26ff23c6c089",
   "metadata": {},
   "outputs": [],
   "source": [
    "perc= (sum*600)/100"
   ]
  },
  {
   "cell_type": "code",
   "execution_count": 21,
   "id": "9d3d7106-08d1-4b04-bccb-42f4c7d46c47",
   "metadata": {},
   "outputs": [
    {
     "data": {
      "text/plain": [
       "2976.0"
      ]
     },
     "execution_count": 21,
     "metadata": {},
     "output_type": "execute_result"
    }
   ],
   "source": [
    "perc"
   ]
  },
  {
   "cell_type": "code",
   "execution_count": 28,
   "id": "096f2e3d-d741-4d51-ab98-d56943d919e3",
   "metadata": {},
   "outputs": [
    {
     "name": "stdout",
     "output_type": "stream",
     "text": [
      "you got D grade\n"
     ]
    }
   ],
   "source": [
    "if( marks>=90):\n",
    "    print(\"you got A grade\")\n",
    "elif( marks>80):\n",
    "    print(\"you got B grade\")\n",
    "elif( marks>70):\n",
    "    print(\"you got C grade\")\n",
    "elif( marks>60):\n",
    "    print(\"you got D grade\")\n",
    "else:\n",
    "    print(\"you got F grade\")\n"
   ]
  },
  {
   "cell_type": "code",
   "execution_count": null,
   "id": "fe35c8fb-ad68-46f6-8c0f-8b772ee71503",
   "metadata": {},
   "outputs": [],
   "source": []
  },
  {
   "cell_type": "code",
   "execution_count": null,
   "id": "3af920a6-0da9-45f5-bba6-a53c8535ee02",
   "metadata": {},
   "outputs": [],
   "source": []
  }
 ],
 "metadata": {
  "kernelspec": {
   "display_name": "Python 3 (ipykernel)",
   "language": "python",
   "name": "python3"
  },
  "language_info": {
   "codemirror_mode": {
    "name": "ipython",
    "version": 3
   },
   "file_extension": ".py",
   "mimetype": "text/x-python",
   "name": "python",
   "nbconvert_exporter": "python",
   "pygments_lexer": "ipython3",
   "version": "3.11.7"
  }
 },
 "nbformat": 4,
 "nbformat_minor": 5
}

{
 "cells": [
  {
   "cell_type": "code",
   "execution_count": 36,
   "id": "e9cd6064-707b-43c7-ad02-44c88678ad3f",
   "metadata": {},
   "outputs": [],
   "source": [
    "my_list = [1,2,3,4,5,6,7,8,9,10] # list is colection of different items, list is denoted by [] "
   ]
  },
  {
   "cell_type": "code",
   "execution_count": 37,
   "id": "d3959180-ac82-45c2-93ec-1e00b3576afa",
   "metadata": {},
   "outputs": [
    {
     "data": {
      "text/plain": [
       "[1, 2, 3, 4, 5, 6, 7, 8, 9, 10]"
      ]
     },
     "execution_count": 37,
     "metadata": {},
     "output_type": "execute_result"
    }
   ],
   "source": [
    "my_list"
   ]
  },
  {
   "cell_type": "code",
   "execution_count": 38,
   "id": "d381c904-c7c3-435e-aa7e-3b06354e3ef6",
   "metadata": {},
   "outputs": [
    {
     "data": {
      "text/plain": [
       "list"
      ]
     },
     "execution_count": 38,
     "metadata": {},
     "output_type": "execute_result"
    }
   ],
   "source": [
    "type(my_list)"
   ]
  },
  {
   "cell_type": "code",
   "execution_count": 39,
   "id": "8f3e94fe-7233-42a1-b906-ce9d54d931ec",
   "metadata": {},
   "outputs": [
    {
     "data": {
      "text/plain": [
       "10"
      ]
     },
     "execution_count": 39,
     "metadata": {},
     "output_type": "execute_result"
    }
   ],
   "source": [
    "len(my_list) # len is function to find length of list"
   ]
  },
  {
   "cell_type": "code",
   "execution_count": 40,
   "id": "449e3c8b-5e9b-43ef-9181-19638cd66ddf",
   "metadata": {},
   "outputs": [
    {
     "name": "stdout",
     "output_type": "stream",
     "text": [
      "the first element of list 1\n"
     ]
    }
   ],
   "source": [
    "# accessing list members\n",
    "\n",
    "print(\"the first element of list\",my_list[0])"
   ]
  },
  {
   "cell_type": "code",
   "execution_count": 41,
   "id": "4b87ecd0-3f80-4634-86fd-a37fbabb5a85",
   "metadata": {},
   "outputs": [
    {
     "name": "stdout",
     "output_type": "stream",
     "text": [
      "the first element of list 1\n",
      "the first element of list 2\n",
      "the first element of list 3\n",
      "the first element of list 4\n",
      "the first element of list 5\n",
      "the first element of list 6\n",
      "the first element of list 7\n",
      "the first element of list 8\n",
      "the first element of list 9\n",
      "the first element of list 10\n"
     ]
    }
   ],
   "source": [
    "for i in range(0,len(my_list)):\n",
    "    print(\"the first element of list\",my_list[i])\n",
    "    "
   ]
  },
  {
   "cell_type": "code",
   "execution_count": 73,
   "id": "2f1157c2-57f3-4ea3-a47c-18de4559a7fe",
   "metadata": {},
   "outputs": [
    {
     "data": {
      "text/plain": [
       "['firni 3', 'burger 4']"
      ]
     },
     "execution_count": 73,
     "metadata": {},
     "output_type": "execute_result"
    }
   ],
   "source": [
    "# slicing\n",
    "my_list = ['kheer 0','pkory 1','dahi bhaly 2' ,'firni 3','burger 4','pizza 5'] # list is colection of different items, list is denoted by [] \n",
    "my_list[3:5]"
   ]
  },
  {
   "cell_type": "code",
   "execution_count": 81,
   "id": "f841d59d-f328-464a-8b0f-1b42b6e46c5b",
   "metadata": {},
   "outputs": [
    {
     "name": "stdout",
     "output_type": "stream",
     "text": [
      "the makeup list is: eyeliner\n",
      "the makeup list is: eyepencil\n",
      "the makeup list is: maskara\n",
      "the makeup list is: foundation\n",
      "the makeup list is: blush\n",
      "the makeup list is: lipstick\n"
     ]
    }
   ],
   "source": [
    "makeup_list=[\"eyeliner\",\"eyepencil\",\"maskara\",\"foundation\",\"blush\",\"lipstick\"]\n",
    "for i in range(0,len(makeup_list)):\n",
    "    print(\"the makeup list is:\",makeup_list[i])\n"
   ]
  },
  {
   "cell_type": "code",
   "execution_count": 82,
   "id": "f87bf3ae-6a4b-4a0b-8ad2-53084d15ed59",
   "metadata": {},
   "outputs": [
    {
     "data": {
      "text/plain": [
       "['eyepencil', 'maskara', 'foundation', 'blush']"
      ]
     },
     "execution_count": 82,
     "metadata": {},
     "output_type": "execute_result"
    }
   ],
   "source": [
    "makeup_list=[\"eyeliner\",\"eyepencil\",\"maskara\",\"foundation\",\"blush\",\"lipstick\"]\n",
    "makeup_list[1:5]"
   ]
  },
  {
   "cell_type": "code",
   "execution_count": 89,
   "id": "ad5ab4f8-d3b3-4889-8dbe-b5a2ab5993df",
   "metadata": {},
   "outputs": [
    {
     "name": "stdout",
     "output_type": "stream",
     "text": [
      "the students are: areeba\n",
      "the students are: aliza\n",
      "the students are: hamna\n",
      "the students are: malaika\n",
      "the students are: maryam\n"
     ]
    }
   ],
   "source": [
    "students_list=[\"areeba\",\"aliza\",\"hamna\",\"malaika\",\"maryam\"]\n",
    "for i in range(0,len(students_list)):\n",
    "    print(\"the students are:\",students_list[i])"
   ]
  },
  {
   "cell_type": "code",
   "execution_count": 90,
   "id": "2b1dd7d9-28e3-4b83-af52-7d93e044753d",
   "metadata": {},
   "outputs": [
    {
     "data": {
      "text/plain": [
       "['areeba', 'aliza', 'hamna']"
      ]
     },
     "execution_count": 90,
     "metadata": {},
     "output_type": "execute_result"
    }
   ],
   "source": [
    "students_list=[\"areeba\",\"aliza\",\"hamna\",\"malaika\",\"maryam\"]\n",
    "students_list[:3]"
   ]
  },
  {
   "cell_type": "code",
   "execution_count": 93,
   "id": "1b991678-68a2-4ca8-9321-ad862b62d0eb",
   "metadata": {},
   "outputs": [],
   "source": [
    "stu_makeup =students_list + makeup_list   # list concatenation\n"
   ]
  },
  {
   "cell_type": "code",
   "execution_count": 95,
   "id": "103120b8-92ac-4807-af7a-52ca933d2be5",
   "metadata": {},
   "outputs": [
    {
     "data": {
      "text/plain": [
       "['areeba',\n",
       " 'aliza',\n",
       " 'hamna',\n",
       " 'malaika',\n",
       " 'maryam',\n",
       " 'eyeliner',\n",
       " 'eyepencil',\n",
       " 'maskara',\n",
       " 'foundation',\n",
       " 'blush',\n",
       " 'lipstick',\n",
       " 'areeba',\n",
       " 'aliza',\n",
       " 'hamna',\n",
       " 'malaika',\n",
       " 'maryam',\n",
       " 'eyeliner',\n",
       " 'eyepencil',\n",
       " 'maskara',\n",
       " 'foundation',\n",
       " 'blush',\n",
       " 'lipstick']"
      ]
     },
     "execution_count": 95,
     "metadata": {},
     "output_type": "execute_result"
    }
   ],
   "source": [
    "stu_makeup *2"
   ]
  },
  {
   "cell_type": "code",
   "execution_count": 96,
   "id": "5f701f78-ef23-4ebe-8bae-a55a2558f387",
   "metadata": {},
   "outputs": [],
   "source": [
    "students_list.append('Ayesha')"
   ]
  },
  {
   "cell_type": "code",
   "execution_count": 101,
   "id": "34e35071-4e7f-4704-9fec-db3c9b7d989c",
   "metadata": {},
   "outputs": [
    {
     "name": "stdin",
     "output_type": "stream",
     "text": [
      "enter name: ali\n"
     ]
    }
   ],
   "source": [
    "name=(input(\"enter name:\"))"
   ]
  },
  {
   "cell_type": "code",
   "execution_count": 110,
   "id": "250082b6-948d-4ab6-b3c3-80e495099c38",
   "metadata": {},
   "outputs": [
    {
     "name": "stdin",
     "output_type": "stream",
     "text": [
      "name: hussain\n"
     ]
    }
   ],
   "source": [
    "name=(input(\"name:\"))"
   ]
  },
  {
   "cell_type": "code",
   "execution_count": 108,
   "id": "299bbe5c-084b-47e7-a9bb-00e542d74193",
   "metadata": {},
   "outputs": [
    {
     "data": {
      "text/plain": [
       "'aliali'"
      ]
     },
     "execution_count": 108,
     "metadata": {},
     "output_type": "execute_result"
    }
   ],
   "source": [
    "students_list+name"
   ]
  },
  {
   "cell_type": "code",
   "execution_count": 4,
   "id": "89ffa833-6eaa-4d6f-aac8-90a017415f7c",
   "metadata": {},
   "outputs": [],
   "source": [
    "student_list=['ali','ahmed','aliza']"
   ]
  },
  {
   "cell_type": "code",
   "execution_count": 5,
   "id": "c4607f8a-f90e-4fb5-b041-7544218fa2e7",
   "metadata": {},
   "outputs": [
    {
     "name": "stdin",
     "output_type": "stream",
     "text": [
      "enter name farhan\n"
     ]
    }
   ],
   "source": [
    "name=(input(\"enter name\"))"
   ]
  },
  {
   "cell_type": "code",
   "execution_count": 6,
   "id": "4361ddb3-607b-4743-8eda-1f9d41ce35ec",
   "metadata": {},
   "outputs": [],
   "source": [
    "student_list.append(name)"
   ]
  },
  {
   "cell_type": "code",
   "execution_count": 9,
   "id": "c2c50894-2cf2-41d0-9074-af1bfebee9fa",
   "metadata": {},
   "outputs": [
    {
     "data": {
      "text/plain": [
       "['ali', 'ahmed', 'aliza', 'farhan', 'farhan']"
      ]
     },
     "execution_count": 9,
     "metadata": {},
     "output_type": "execute_result"
    }
   ],
   "source": [
    "student_list"
   ]
  },
  {
   "cell_type": "code",
   "execution_count": 12,
   "id": "9c521f5a-8679-49cf-a89a-8a7a8390bb92",
   "metadata": {},
   "outputs": [
    {
     "data": {
      "text/plain": [
       "'aliza'"
      ]
     },
     "execution_count": 12,
     "metadata": {},
     "output_type": "execute_result"
    }
   ],
   "source": [
    "student_list[-3]"
   ]
  },
  {
   "cell_type": "code",
   "execution_count": 14,
   "id": "7398ce92-bc20-42ee-9982-48875852bd91",
   "metadata": {},
   "outputs": [],
   "source": [
    "girls = student_list[-3]"
   ]
  },
  {
   "cell_type": "code",
   "execution_count": 15,
   "id": "960680e3-11f3-4b65-8934-37f1207b5719",
   "metadata": {},
   "outputs": [
    {
     "data": {
      "text/plain": [
       "'aliza'"
      ]
     },
     "execution_count": 15,
     "metadata": {},
     "output_type": "execute_result"
    }
   ],
   "source": [
    "girls"
   ]
  },
  {
   "cell_type": "code",
   "execution_count": 20,
   "id": "a7507960-8c76-4c59-870a-0eb84bcb353d",
   "metadata": {},
   "outputs": [],
   "source": [
    "boys= student_list[0:5:3]"
   ]
  },
  {
   "cell_type": "code",
   "execution_count": 21,
   "id": "042b0e57-a8f7-4270-bd31-046596f218f0",
   "metadata": {},
   "outputs": [
    {
     "data": {
      "text/plain": [
       "['ali', 'farhan']"
      ]
     },
     "execution_count": 21,
     "metadata": {},
     "output_type": "execute_result"
    }
   ],
   "source": [
    "boys"
   ]
  },
  {
   "cell_type": "code",
   "execution_count": 22,
   "id": "a018aa73-81ad-4b68-9691-1aac823e391e",
   "metadata": {},
   "outputs": [],
   "source": [
    "student_list[0]='alia' #modification of list"
   ]
  },
  {
   "cell_type": "code",
   "execution_count": 23,
   "id": "65b131c9-3c3a-4c85-b805-10d66f4b029d",
   "metadata": {},
   "outputs": [
    {
     "data": {
      "text/plain": [
       "['alia', 'ahmed', 'aliza', 'farhan', 'farhan']"
      ]
     },
     "execution_count": 23,
     "metadata": {},
     "output_type": "execute_result"
    }
   ],
   "source": [
    "student_list"
   ]
  },
  {
   "cell_type": "code",
   "execution_count": 25,
   "id": "1c8445b2-1016-4cbe-82ac-8b7792ec2f8b",
   "metadata": {},
   "outputs": [],
   "source": [
    "student_list.append('raza') #append function always add the name at the end of the list"
   ]
  },
  {
   "cell_type": "code",
   "execution_count": 26,
   "id": "ce31caba-4d28-4292-ad9f-241891bf6666",
   "metadata": {},
   "outputs": [
    {
     "data": {
      "text/plain": [
       "['alia', 'ahmed', 'aliza', 'farhan', 'farhan', 'raza']"
      ]
     },
     "execution_count": 26,
     "metadata": {},
     "output_type": "execute_result"
    }
   ],
   "source": [
    "student_list"
   ]
  },
  {
   "cell_type": "code",
   "execution_count": 27,
   "id": "6bbf407e-23af-42e9-b820-7d21d8d17b65",
   "metadata": {},
   "outputs": [],
   "source": [
    "del student_list[3]"
   ]
  },
  {
   "cell_type": "code",
   "execution_count": 28,
   "id": "964bbbdf-df5d-4b91-81f5-ab648735edd9",
   "metadata": {},
   "outputs": [
    {
     "data": {
      "text/plain": [
       "['alia', 'ahmed', 'aliza', 'farhan', 'raza']"
      ]
     },
     "execution_count": 28,
     "metadata": {},
     "output_type": "execute_result"
    }
   ],
   "source": [
    "student_list"
   ]
  },
  {
   "cell_type": "code",
   "execution_count": 45,
   "id": "3bdf1589-0434-4dfd-af3c-13e0dc6773e3",
   "metadata": {},
   "outputs": [
    {
     "name": "stdin",
     "output_type": "stream",
     "text": [
      "enter name ali\n",
      "enter name rizwan\n",
      "enter name usman\n",
      "enter name zeeshan\n",
      "enter name salman\n"
     ]
    }
   ],
   "source": [
    "name_list=[]\n",
    "\n",
    "for i in range(0,5):\n",
    "    name=(input(\"enter name\"))\n",
    "    name_list.append(name)"
   ]
  },
  {
   "cell_type": "code",
   "execution_count": 46,
   "id": "508ca793-9942-48c0-91c3-ff13f5b8f8a8",
   "metadata": {},
   "outputs": [
    {
     "data": {
      "text/plain": [
       "['ali', 'rizwan', 'usman', 'zeeshan', 'salman']"
      ]
     },
     "execution_count": 46,
     "metadata": {},
     "output_type": "execute_result"
    }
   ],
   "source": [
    "name_list"
   ]
  },
  {
   "cell_type": "code",
   "execution_count": 47,
   "id": "f8490b34-75b2-4efa-892e-068812ba2608",
   "metadata": {},
   "outputs": [
    {
     "name": "stdin",
     "output_type": "stream",
     "text": [
      "enter number 3\n"
     ]
    }
   ],
   "source": [
    "num=int(input(\"enter number\"))"
   ]
  },
  {
   "cell_type": "code",
   "execution_count": 50,
   "id": "c7386f67-8148-4287-9f2c-e23970d5b24a",
   "metadata": {},
   "outputs": [],
   "source": [
    "del name_list[num]"
   ]
  },
  {
   "cell_type": "code",
   "execution_count": 51,
   "id": "8a1da158-a396-4a8a-8a59-3aa6308f21c1",
   "metadata": {},
   "outputs": [
    {
     "data": {
      "text/plain": [
       "['ali', 'rizwan', 'usman']"
      ]
     },
     "execution_count": 51,
     "metadata": {},
     "output_type": "execute_result"
    }
   ],
   "source": [
    "name_list"
   ]
  },
  {
   "cell_type": "code",
   "execution_count": 55,
   "id": "c2416319-e8b2-4d70-809a-636b8feda78e",
   "metadata": {},
   "outputs": [],
   "source": [
    "name_list[2]=\"rehan\""
   ]
  },
  {
   "cell_type": "code",
   "execution_count": 56,
   "id": "62b3294a-9e67-48b2-86f6-591d23bf6c43",
   "metadata": {},
   "outputs": [
    {
     "data": {
      "text/plain": [
       "['ali', 'rizwan', 'rehan']"
      ]
     },
     "execution_count": 56,
     "metadata": {},
     "output_type": "execute_result"
    }
   ],
   "source": [
    "name_list"
   ]
  },
  {
   "cell_type": "code",
   "execution_count": 57,
   "id": "62bae1c0-c578-4775-875b-e549d3c47ba5",
   "metadata": {},
   "outputs": [],
   "source": [
    "days_of_week=(1,2,3,4)#tuple"
   ]
  },
  {
   "cell_type": "code",
   "execution_count": 58,
   "id": "74012be0-02a1-483a-a7d3-0b477c22f7d0",
   "metadata": {},
   "outputs": [
    {
     "data": {
      "text/plain": [
       "4"
      ]
     },
     "execution_count": 58,
     "metadata": {},
     "output_type": "execute_result"
    }
   ],
   "source": [
    "days_of_week[3]"
   ]
  },
  {
   "cell_type": "code",
   "execution_count": 62,
   "id": "b4649b99-1853-4953-922e-b01592fcb662",
   "metadata": {},
   "outputs": [
    {
     "data": {
      "text/plain": [
       "False"
      ]
     },
     "execution_count": 62,
     "metadata": {},
     "output_type": "execute_result"
    }
   ],
   "source": [
    "'raza' in name_list"
   ]
  },
  {
   "cell_type": "code",
   "execution_count": 65,
   "id": "eb3b24f9-a402-4ffd-a9a1-0cfcab3744d7",
   "metadata": {},
   "outputs": [
    {
     "name": "stdin",
     "output_type": "stream",
     "text": [
      "enter name to find in list raza\n"
     ]
    },
    {
     "name": "stdout",
     "output_type": "stream",
     "text": [
      "name not found\n"
     ]
    }
   ],
   "source": [
    "n = input(\"enter name to find in list\")\n",
    "if(n in name_list):\n",
    "    print(\"name found\")\n",
    "else:\n",
    "    print(\"name not found\")"
   ]
  },
  {
   "cell_type": "code",
   "execution_count": 67,
   "id": "4430669d-2060-483e-a7d2-7d62b42ef275",
   "metadata": {},
   "outputs": [],
   "source": [
    "name_list.insert(2,\"raza\")\n"
   ]
  },
  {
   "cell_type": "code",
   "execution_count": 68,
   "id": "34285b89-96cd-4474-94ba-43fe4a4715b8",
   "metadata": {},
   "outputs": [
    {
     "data": {
      "text/plain": [
       "['ali', 'rizwan', 'raza', 'rehan']"
      ]
     },
     "execution_count": 68,
     "metadata": {},
     "output_type": "execute_result"
    }
   ],
   "source": [
    "name_list"
   ]
  },
  {
   "cell_type": "code",
   "execution_count": 69,
   "id": "8caa635e-8fd2-44a5-8b01-34b60ca7083d",
   "metadata": {},
   "outputs": [],
   "source": [
    "name_list.insert(3,\"zia\") # add meember on specified index"
   ]
  },
  {
   "cell_type": "code",
   "execution_count": 70,
   "id": "1441cb67-0f30-4886-b636-9b7bfed536b3",
   "metadata": {},
   "outputs": [
    {
     "data": {
      "text/plain": [
       "['ali', 'rizwan', 'raza', 'zia', 'rehan']"
      ]
     },
     "execution_count": 70,
     "metadata": {},
     "output_type": "execute_result"
    }
   ],
   "source": [
    "name_list"
   ]
  },
  {
   "cell_type": "code",
   "execution_count": 71,
   "id": "77e582c7-0c99-4562-bd01-535a99aefba1",
   "metadata": {},
   "outputs": [
    {
     "data": {
      "text/plain": [
       "'rizwan'"
      ]
     },
     "execution_count": 71,
     "metadata": {},
     "output_type": "execute_result"
    }
   ],
   "source": [
    "name_list.pop(1)\n"
   ]
  },
  {
   "cell_type": "code",
   "execution_count": 72,
   "id": "68f146c9-0dd1-47e6-892c-1dabfd8f53c8",
   "metadata": {},
   "outputs": [
    {
     "data": {
      "text/plain": [
       "['ali', 'raza', 'zia', 'rehan']"
      ]
     },
     "execution_count": 72,
     "metadata": {},
     "output_type": "execute_result"
    }
   ],
   "source": [
    "name_list"
   ]
  },
  {
   "cell_type": "code",
   "execution_count": 73,
   "id": "c2949591-9ded-4c08-a7ed-eb5bab42963d",
   "metadata": {},
   "outputs": [],
   "source": [
    "name_list.remove('zia') # remove member by value"
   ]
  },
  {
   "cell_type": "code",
   "execution_count": 74,
   "id": "36bc7bf8-1827-4ac5-8325-2fe5aa81ed7a",
   "metadata": {},
   "outputs": [
    {
     "data": {
      "text/plain": [
       "['ali', 'raza', 'rehan']"
      ]
     },
     "execution_count": 74,
     "metadata": {},
     "output_type": "execute_result"
    }
   ],
   "source": [
    "name_list"
   ]
  },
  {
   "cell_type": "code",
   "execution_count": 76,
   "id": "b29629ed-1a16-45eb-add2-60964d62165c",
   "metadata": {},
   "outputs": [],
   "source": [
    "name_list.reverse()"
   ]
  },
  {
   "cell_type": "code",
   "execution_count": 77,
   "id": "2b6fe4f1-5ad2-426b-ae4e-044d71a58b30",
   "metadata": {},
   "outputs": [
    {
     "data": {
      "text/plain": [
       "['rehan', 'raza', 'ali']"
      ]
     },
     "execution_count": 77,
     "metadata": {},
     "output_type": "execute_result"
    }
   ],
   "source": [
    "name_list"
   ]
  },
  {
   "cell_type": "code",
   "execution_count": 78,
   "id": "86b91c66-15bc-4719-b7cd-d2608270b8cb",
   "metadata": {},
   "outputs": [],
   "source": [
    "name_list.sort()"
   ]
  },
  {
   "cell_type": "code",
   "execution_count": 79,
   "id": "001de5b1-1c5a-4e9a-80d0-cab598da0325",
   "metadata": {},
   "outputs": [
    {
     "data": {
      "text/plain": [
       "['ali', 'raza', 'rehan']"
      ]
     },
     "execution_count": 79,
     "metadata": {},
     "output_type": "execute_result"
    }
   ],
   "source": [
    "name_list\n"
   ]
  },
  {
   "cell_type": "code",
   "execution_count": null,
   "id": "0c924ac6-1c2f-4498-a1cd-00946568d99c",
   "metadata": {},
   "outputs": [],
   "source": []
  }
 ],
 "metadata": {
  "kernelspec": {
   "display_name": "Python 3 (ipykernel)",
   "language": "python",
   "name": "python3"
  },
  "language_info": {
   "codemirror_mode": {
    "name": "ipython",
    "version": 3
   },
   "file_extension": ".py",
   "mimetype": "text/x-python",
   "name": "python",
   "nbconvert_exporter": "python",
   "pygments_lexer": "ipython3",
   "version": "3.11.7"
  }
 },
 "nbformat": 4,
 "nbformat_minor": 5
}

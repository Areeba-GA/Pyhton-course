{
 "cells": [
  {
   "cell_type": "markdown",
   "id": "5a4db9e2-8446-48fe-b548-aa0f1f82e8d1",
   "metadata": {},
   "source": [
    "# for loop in python \n"
   ]
  },
  {
   "cell_type": "code",
   "execution_count": 8,
   "id": "c65312de-8de8-496d-8480-bb127244779c",
   "metadata": {},
   "outputs": [
    {
     "name": "stdout",
     "output_type": "stream",
     "text": [
      "3\n",
      "6\n",
      "9\n",
      "12\n",
      "15\n",
      "18\n",
      "21\n",
      "24\n",
      "27\n",
      "30\n",
      "33\n",
      "36\n",
      "39\n",
      "42\n",
      "45\n",
      "48\n",
      "51\n",
      "54\n",
      "57\n",
      "60\n",
      "63\n",
      "66\n",
      "69\n",
      "72\n",
      "75\n",
      "78\n",
      "81\n",
      "84\n",
      "87\n",
      "90\n",
      "93\n",
      "96\n",
      "99\n"
     ]
    }
   ],
   "source": [
    "for i in range(3,100,3):\n",
    "    print(i)"
   ]
  },
  {
   "cell_type": "markdown",
   "id": "266dc7c2-d968-483d-85d9-afacf750064a",
   "metadata": {},
   "source": [
    "# Nested if \n"
   ]
  },
  {
   "cell_type": "code",
   "execution_count": 16,
   "id": "8fa645fb-12b1-4663-81a0-ebfa256d944b",
   "metadata": {},
   "outputs": [
    {
     "name": "stdin",
     "output_type": "stream",
     "text": [
      "enter your age: 19\n"
     ]
    }
   ],
   "source": []
  },
  {
   "cell_type": "code",
   "execution_count": 30,
   "id": "3ea39b10-cc86-4435-8481-20450d502217",
   "metadata": {},
   "outputs": [
    {
     "name": "stdin",
     "output_type": "stream",
     "text": [
      "ti chek your eligibility : enter y for yes n for no y\n",
      "enter your age: 19\n"
     ]
    },
    {
     "name": "stdout",
     "output_type": "stream",
     "text": [
      "you are eligible for admission\n"
     ]
    },
    {
     "name": "stdin",
     "output_type": "stream",
     "text": [
      "enter your makrs: 81\n"
     ]
    },
    {
     "name": "stdout",
     "output_type": "stream",
     "text": [
      "you can become a Cs graduate\n"
     ]
    },
    {
     "name": "stdin",
     "output_type": "stream",
     "text": [
      "do you want to chek eligibility again: enter y for yes n for no y\n",
      "enter your age: 19\n"
     ]
    },
    {
     "name": "stdout",
     "output_type": "stream",
     "text": [
      "you are eligible for admission\n"
     ]
    },
    {
     "name": "stdin",
     "output_type": "stream",
     "text": [
      "enter your makrs: 79\n"
     ]
    },
    {
     "name": "stdout",
     "output_type": "stream",
     "text": [
      "your makrs ae low\n"
     ]
    },
    {
     "name": "stdin",
     "output_type": "stream",
     "text": [
      "do you want to chek eligibility again: enter y for yes n for no y\n",
      "enter your age: 14\n"
     ]
    },
    {
     "name": "stdout",
     "output_type": "stream",
     "text": [
      "you are too young\n"
     ]
    },
    {
     "name": "stdin",
     "output_type": "stream",
     "text": [
      "do you want to chek eligibility again: enter y for yes n for no n\n"
     ]
    }
   ],
   "source": [
    "ch = input(\"to chek your eligibility : enter y for yes n for no\")\n",
    "while(ch == 'y'):\n",
    "    age = int(input(\"enter your age:\"))\n",
    "    if(age > 18):\n",
    "        print(\"you are eligible for admission\")\n",
    "        marks = int(input(\"enter your makrs:\"))\n",
    "        if(marks>80):\n",
    "            print(\"you can become a Cs graduate\")\n",
    "        else:\n",
    "            print(\"your makrs ae low\")\n",
    "    else:\n",
    "        print(\"you are too young\")\n",
    "    ch = input(\"do you want to chek eligibility again: enter y for yes n for no\")\n",
    "        \n"
   ]
  },
  {
   "cell_type": "code",
   "execution_count": 59,
   "id": "6a57ede8-60a0-4fbc-8141-532e0a41a90d",
   "metadata": {},
   "outputs": [
    {
     "name": "stdin",
     "output_type": "stream",
     "text": [
      "enter age: 20\n"
     ]
    },
    {
     "name": "stdout",
     "output_type": "stream",
     "text": [
      "adult\n"
     ]
    },
    {
     "name": "stdin",
     "output_type": "stream",
     "text": [
      "gender: male\n"
     ]
    },
    {
     "name": "stdout",
     "output_type": "stream",
     "text": [
      "adult male\n"
     ]
    }
   ],
   "source": [
    "age= int(input(\"enter age:\"))\n",
    "if(age >18):\n",
    "    print(\"adult\")\n",
    "    gender=(input(\"gender:\"))\n",
    "    if(gender == \"male\"):\n",
    "        print(\"adult male\")\n",
    "    else:\n",
    "        print(\"adult female\")\n",
    "else:\n",
    "    print(\"you are too young\")\n"
   ]
  },
  {
   "cell_type": "code",
   "execution_count": 60,
   "id": "e9075d41-a645-4acf-bf8d-073462ba77cc",
   "metadata": {},
   "outputs": [
    {
     "name": "stdout",
     "output_type": "stream",
     "text": [
      "5\n",
      "10\n",
      "15\n",
      "20\n"
     ]
    }
   ],
   "source": [
    "for i in range(5,25,5):\n",
    "    print(i)"
   ]
  },
  {
   "cell_type": "code",
   "execution_count": 62,
   "id": "4af2d56a-77f0-4a66-a108-586a0849d49d",
   "metadata": {},
   "outputs": [
    {
     "name": "stdout",
     "output_type": "stream",
     "text": [
      "10\n",
      "18\n",
      "26\n",
      "34\n",
      "42\n",
      "50\n",
      "58\n",
      "66\n",
      "74\n",
      "82\n",
      "90\n",
      "98\n"
     ]
    }
   ],
   "source": [
    "for i in range(10,100,8):\n",
    "    print(i)"
   ]
  },
  {
   "cell_type": "code",
   "execution_count": 71,
   "id": "d09b5423-9ce1-473b-985a-2a06873976be",
   "metadata": {},
   "outputs": [],
   "source": [
    " n=5\n",
    " while(n>50):\n",
    "    print(\"the multiple of 5 is:\",n)\n",
    "    n=n+1"
   ]
  },
  {
   "cell_type": "code",
   "execution_count": null,
   "id": "f4326223-94f6-4ff0-b8d2-df6ee8d0d47c",
   "metadata": {},
   "outputs": [],
   "source": []
  }
 ],
 "metadata": {
  "kernelspec": {
   "display_name": "Python 3 (ipykernel)",
   "language": "python",
   "name": "python3"
  },
  "language_info": {
   "codemirror_mode": {
    "name": "ipython",
    "version": 3
   },
   "file_extension": ".py",
   "mimetype": "text/x-python",
   "name": "python",
   "nbconvert_exporter": "python",
   "pygments_lexer": "ipython3",
   "version": "3.11.7"
  }
 },
 "nbformat": 4,
 "nbformat_minor": 5
}

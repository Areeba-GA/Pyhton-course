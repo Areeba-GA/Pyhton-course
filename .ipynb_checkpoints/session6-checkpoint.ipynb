{
 "cells": [
  {
   "cell_type": "markdown",
   "id": "d9f06ec0-dbae-4580-8f93-217ac89ffd43",
   "metadata": {},
   "source": [
    "# Function\n",
    " functions are named block of code that perform a specific task"
   ]
  },
  {
   "cell_type": "code",
   "execution_count": 57,
   "id": "ea93463b-b84c-453c-ae26-ba9247b48412",
   "metadata": {},
   "outputs": [],
   "source": [
    "# defining a function i.e what a function will do\n",
    "def sq():\n",
    "    n = int(input(\"enter a number:\"))\n",
    "    s = n*n\n",
    "    print(\"The square is:\",s)\n"
   ]
  },
  {
   "cell_type": "code",
   "execution_count": 58,
   "id": "bd766c0a-22ce-4807-8e1a-d3d21edd9fde",
   "metadata": {},
   "outputs": [
    {
     "name": "stdout",
     "output_type": "stream",
     "text": [
      "statement before callig function\n"
     ]
    },
    {
     "name": "stdin",
     "output_type": "stream",
     "text": [
      "enter a number: 9\n"
     ]
    },
    {
     "name": "stdout",
     "output_type": "stream",
     "text": [
      "The square is: 81\n",
      "statements after calling function\n"
     ]
    }
   ],
   "source": [
    "# using a function , calling a function for performing task for that it was created\n",
    "print(\"statement before callig function\")\n",
    "\n",
    "sq()\n",
    "print(\"statements after calling function\")"
   ]
  },
  {
   "cell_type": "code",
   "execution_count": 8,
   "id": "a45638bf-f3af-4f08-afaf-ff2652d4d38b",
   "metadata": {},
   "outputs": [],
   "source": [
    "# defining a function i.e what a function will do\n",
    "def ret_sq():\n",
    "    n = int(input(\"enter a number:\"))\n",
    "    s = n*n\n",
    "    return s\n"
   ]
  },
  {
   "cell_type": "code",
   "execution_count": 9,
   "id": "49d7c8ca-67c6-4e1c-822a-758fd5b5cb58",
   "metadata": {},
   "outputs": [
    {
     "name": "stdin",
     "output_type": "stream",
     "text": [
      "enter a number: 3\n"
     ]
    }
   ],
   "source": [
    "seq = ret_sq()"
   ]
  },
  {
   "cell_type": "code",
   "execution_count": 10,
   "id": "de97fec4-8021-4b7a-8762-d165849cc802",
   "metadata": {},
   "outputs": [
    {
     "data": {
      "text/plain": [
       "9"
      ]
     },
     "execution_count": 10,
     "metadata": {},
     "output_type": "execute_result"
    }
   ],
   "source": [
    "seq"
   ]
  },
  {
   "cell_type": "code",
   "execution_count": 27,
   "id": "f1a79613-08d8-4753-ac9b-4a4107e6b207",
   "metadata": {},
   "outputs": [],
   "source": [
    "def grades():\n",
    "    perc= int(input(\"enter your percentage\"))\n",
    "    if(perc>=80):\n",
    "        grade = \"A\"\n",
    "    elif(perc>=70):\n",
    "        grade= \"B\"\n",
    "    elif(perc>=60):\n",
    "        grade= \"C\"\n",
    "    elif(perc>=50):\n",
    "         grade=\"D\"\n",
    "    else:\n",
    "        grade= \"F\"\n",
    "    return grade\n",
    "        \n",
    "'"
   ]
  },
  {
   "cell_type": "code",
   "execution_count": 28,
   "id": "7e0d0ec0-a2a6-4c42-9f0f-b946fdc9e4b2",
   "metadata": {},
   "outputs": [
    {
     "name": "stdin",
     "output_type": "stream",
     "text": [
      "enter your percentage 78\n"
     ]
    }
   ],
   "source": [
    "g=grades()"
   ]
  },
  {
   "cell_type": "code",
   "execution_count": 30,
   "id": "aa506989-48a0-48f1-95d2-b1faccf2272b",
   "metadata": {},
   "outputs": [
    {
     "name": "stdout",
     "output_type": "stream",
     "text": [
      "your grade is: B\n"
     ]
    }
   ],
   "source": [
    "print(\"your grade is:\",g)"
   ]
  },
  {
   "cell_type": "code",
   "execution_count": 44,
   "id": "7bd03c21-c268-45aa-a272-31348d071582",
   "metadata": {},
   "outputs": [],
   "source": [
    "def grades(perc):\n",
    "    if(perc>=80):\n",
    "        grade = \"A\"\n",
    "    elif(perc>=70):\n",
    "        grade= \"B\"\n",
    "    elif(perc>=60):\n",
    "        grade= \"C\"\n",
    "    elif(perc>=50):\n",
    "         grade=\"D\"\n",
    "    else:\n",
    "        grade= \"F\"\n",
    "    return grade\n",
    "\n",
    "def perc():\n",
    "    sub1=int(input(\"sub1 marks:\"))\n",
    "    sub2=int(input(\"sub2 marks:\"))\n",
    "    sub3=int(input(\"sub3 marks:\"))\n",
    "    sum=sub1+sub2+sub3\n",
    "    per=(sum*100)/300\n",
    "    return per\n",
    "def print_grade(g):\n",
    "    print(\"the grade is:\",g)\n",
    "    "
   ]
  },
  {
   "cell_type": "code",
   "execution_count": 45,
   "id": "0fbba8ec-596b-45fd-aa78-743d7faf1c02",
   "metadata": {},
   "outputs": [
    {
     "name": "stdin",
     "output_type": "stream",
     "text": [
      "sub1 marks: 76\n",
      "sub2 marks: 87\n",
      "sub3 marks: 98\n"
     ]
    },
    {
     "name": "stdout",
     "output_type": "stream",
     "text": [
      "the grade is: A\n"
     ]
    }
   ],
   "source": [
    "p= perc()\n",
    "g=grades(p)\n",
    "print_grade(g)"
   ]
  },
  {
   "cell_type": "code",
   "execution_count": 35,
   "id": "066c2943-67bc-42e1-9602-69080cde9e37",
   "metadata": {},
   "outputs": [],
   "source": [
    "g2=grades(65)"
   ]
  },
  {
   "cell_type": "code",
   "execution_count": 36,
   "id": "0bb9e0d9-bf98-4d48-9931-79273b21db40",
   "metadata": {},
   "outputs": [
    {
     "data": {
      "text/plain": [
       "'C'"
      ]
     },
     "execution_count": 36,
     "metadata": {},
     "output_type": "execute_result"
    }
   ],
   "source": [
    "g2"
   ]
  },
  {
   "cell_type": "code",
   "execution_count": 46,
   "id": "a1396649-6bb6-42a9-a9f2-a82d032d3657",
   "metadata": {},
   "outputs": [
    {
     "data": {
      "text/plain": [
       "'A'"
      ]
     },
     "execution_count": 46,
     "metadata": {},
     "output_type": "execute_result"
    }
   ],
   "source": [
    "grades(87)"
   ]
  },
  {
   "cell_type": "code",
   "execution_count": 47,
   "id": "19d7114c-b35f-4233-a893-8cf01c543426",
   "metadata": {},
   "outputs": [
    {
     "name": "stdout",
     "output_type": "stream",
     "text": [
      "the grade is: H\n"
     ]
    }
   ],
   "source": [
    "print_grade(\"H\")"
   ]
  },
  {
   "cell_type": "code",
   "execution_count": 48,
   "id": "f9429b93-a902-4a22-a645-45ca596e2f03",
   "metadata": {},
   "outputs": [
    {
     "name": "stdin",
     "output_type": "stream",
     "text": [
      "sub1 marks: 98\n",
      "sub2 marks: 87\n",
      "sub3 marks: 65\n"
     ]
    }
   ],
   "source": [
    "p2= perc()"
   ]
  },
  {
   "cell_type": "code",
   "execution_count": 49,
   "id": "d40b4efb-9a9e-481b-b752-8accf177ac24",
   "metadata": {},
   "outputs": [
    {
     "data": {
      "text/plain": [
       "83.33333333333333"
      ]
     },
     "execution_count": 49,
     "metadata": {},
     "output_type": "execute_result"
    }
   ],
   "source": [
    "p2"
   ]
  },
  {
   "cell_type": "code",
   "execution_count": 50,
   "id": "bac36ab3-84ce-4ad1-8b3c-d8f94c668abd",
   "metadata": {},
   "outputs": [
    {
     "name": "stdout",
     "output_type": "stream",
     "text": [
      "you are eligible for scholarship\n"
     ]
    }
   ],
   "source": [
    "if(p2>80):\n",
    "    print(\"you are eligible for scholarship\")\n",
    "else:\n",
    "    print(\"betetr luck next time\")"
   ]
  },
  {
   "cell_type": "code",
   "execution_count": 56,
   "id": "f6ef233d-24db-40f4-bc8d-bf5a6bb3dad1",
   "metadata": {},
   "outputs": [
    {
     "data": {
      "text/plain": [
       "'A'"
      ]
     },
     "execution_count": 56,
     "metadata": {},
     "output_type": "execute_result"
    }
   ],
   "source": [
    "grades(p2)"
   ]
  },
  {
   "cell_type": "code",
   "execution_count": null,
   "id": "2d57b39b-5038-4660-9b5e-4be44c48dc53",
   "metadata": {},
   "outputs": [],
   "source": []
  }
 ],
 "metadata": {
  "kernelspec": {
   "display_name": "Python 3 (ipykernel)",
   "language": "python",
   "name": "python3"
  },
  "language_info": {
   "codemirror_mode": {
    "name": "ipython",
    "version": 3
   },
   "file_extension": ".py",
   "mimetype": "text/x-python",
   "name": "python",
   "nbconvert_exporter": "python",
   "pygments_lexer": "ipython3",
   "version": "3.11.7"
  }
 },
 "nbformat": 4,
 "nbformat_minor": 5
}

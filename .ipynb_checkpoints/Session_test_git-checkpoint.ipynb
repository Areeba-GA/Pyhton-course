{
 "cells": [
  {
   "cell_type": "code",
   "execution_count": 1,
   "id": "a9ce3194-6696-409a-8652-8a1c00d55e84",
   "metadata": {},
   "outputs": [
    {
     "name": "stdout",
     "output_type": "stream",
     "text": [
      "hello i am learnig gitg us\n"
     ]
    }
   ],
   "source": [
    "print(\"hello i am learnig gitg us\")"
   ]
  },
  {
   "cell_type": "code",
   "execution_count": null,
   "id": "ce0fc07e-9a5a-4b8d-a8cf-31be433513fb",
   "metadata": {},
   "outputs": [],
   "source": []
  }
 ],
 "metadata": {
  "kernelspec": {
   "display_name": "Python 3 (ipykernel)",
   "language": "python",
   "name": "python3"
  },
  "language_info": {
   "codemirror_mode": {
    "name": "ipython",
    "version": 3
   },
   "file_extension": ".py",
   "mimetype": "text/x-python",
   "name": "python",
   "nbconvert_exporter": "python",
   "pygments_lexer": "ipython3",
   "version": "3.11.7"
  }
 },
 "nbformat": 4,
 "nbformat_minor": 5
}

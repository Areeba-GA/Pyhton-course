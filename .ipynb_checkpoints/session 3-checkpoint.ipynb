{
 "cells": [
  {
   "cell_type": "markdown",
   "id": "279e54a2-adf4-4090-8b7b-a79fc748d1d3",
   "metadata": {},
   "source": [
    "# Getting Input from user and comparison operators and markdown language"
   ]
  },
  {
   "cell_type": "markdown",
   "id": "73f87c37-c38a-451c-b6e2-43a4ed70c512",
   "metadata": {},
   "source": [
    "## while dpooing programming we need to get a inpout form user "
   ]
  },
  {
   "cell_type": "markdown",
   "id": "b375a9ac-0463-4c80-a0b3-2ff6c66b7367",
   "metadata": {},
   "source": [
    "### so in order to get a input form user we use input fiunction in python , tht always return a string value from user\n",
    "\n",
    "1. apple\n",
    "2. banana\n",
    "3. mango\n",
    "4. water melon\n",
    "5. papaye\n",
    "\n",
    "> here is the main or focused point\n",
    "\n",
    " - here is the un ordered list\n",
    " - item 1\n",
    " - item 2\n"
   ]
  },
  {
   "cell_type": "code",
   "execution_count": 3,
   "id": "32071e3b-9c8d-4f6b-ac25-ef44302f8cdd",
   "metadata": {},
   "outputs": [],
   "source": [
    "# comment \n",
    "## input fiunction always return a string value so we have to convert the desired value to int or float by using int() or float ()"
   ]
  },
  {
   "cell_type": "code",
   "execution_count": 13,
   "id": "11010b0d-8c30-4185-b97f-eb7500be98b2",
   "metadata": {},
   "outputs": [
    {
     "name": "stdin",
     "output_type": "stream",
     "text": [
      "apni age dasso : 45\n"
     ]
    }
   ],
   "source": [
    "age = int(input(\"apni age dasso :\"))   "
   ]
  },
  {
   "cell_type": "code",
   "execution_count": 14,
   "id": "2bdd3c8d-f38d-4452-a20d-34064a5f8e53",
   "metadata": {},
   "outputs": [
    {
     "data": {
      "text/plain": [
       "45"
      ]
     },
     "execution_count": 14,
     "metadata": {},
     "output_type": "execute_result"
    }
   ],
   "source": [
    "age"
   ]
  },
  {
   "cell_type": "code",
   "execution_count": 15,
   "id": "9e327abd-80d7-4a52-ac46-be2da7961efc",
   "metadata": {},
   "outputs": [
    {
     "data": {
      "text/plain": [
       "int"
      ]
     },
     "execution_count": 15,
     "metadata": {},
     "output_type": "execute_result"
    }
   ],
   "source": [
    "type(age)"
   ]
  },
  {
   "cell_type": "code",
   "execution_count": 16,
   "id": "94e00141-faac-48b6-a77d-5ea92cd5937a",
   "metadata": {},
   "outputs": [
    {
     "name": "stdin",
     "output_type": "stream",
     "text": [
      "enter your name: zeeshan\n"
     ]
    }
   ],
   "source": [
    "name  = input (\"enter your name:\")"
   ]
  },
  {
   "cell_type": "code",
   "execution_count": 17,
   "id": "cb2e90b0-d606-4cbd-9821-ba4f365346c4",
   "metadata": {},
   "outputs": [
    {
     "data": {
      "text/plain": [
       "'zeeshan'"
      ]
     },
     "execution_count": 17,
     "metadata": {},
     "output_type": "execute_result"
    }
   ],
   "source": [
    "name"
   ]
  },
  {
   "cell_type": "code",
   "execution_count": 20,
   "id": "bf6d2de3-f0b2-4889-9191-25647093cf0e",
   "metadata": {},
   "outputs": [
    {
     "name": "stdin",
     "output_type": "stream",
     "text": [
      "enter employee 1 salary: 75000\n",
      "enter employee 2 salary: 120000\n"
     ]
    },
    {
     "name": "stdout",
     "output_type": "stream",
     "text": [
      "employee 1 saalary before bonus: 75000\n",
      "employee 1 salary after bonus: 86250.0\n",
      "employee 2 saalary before bonus: 120000\n",
      "employee 2 salary after bonus: 129000.0\n"
     ]
    }
   ],
   "source": [
    "emp1_sal= int(input(\"enter employee 1 salary:\"))\n",
    "emp2_sal= int(input(\"enter employee 2 salary:\"))\n",
    "emp1_bonus = (15/100)* emp1_sal\n",
    "emp1_total_sal = emp1_bonus+emp1_sal\n",
    "\n",
    "print(\"employee 1 saalary before bonus:\",emp1_sal)\n",
    "print(\"employee 1 salary after bonus:\",emp1_total_sal)\n",
    "\n",
    "emp2_bonus = (7.5/100)* emp2_sal\n",
    "emp2_total_sal = emp2_bonus+emp2_sal\n",
    "\n",
    "print(\"employee 2 saalary before bonus:\",emp2_sal)\n",
    "print(\"employee 2 salary after bonus:\",emp2_total_sal)\n"
   ]
  },
  {
   "cell_type": "code",
   "execution_count": 22,
   "id": "941c7304-3ab5-4093-bc63-581d90859258",
   "metadata": {},
   "outputs": [
    {
     "name": "stdin",
     "output_type": "stream",
     "text": [
      "enter height: 5.7\n"
     ]
    }
   ],
   "source": [
    "height=float(input(\"enter height:\"))"
   ]
  },
  {
   "cell_type": "code",
   "execution_count": 23,
   "id": "92f3b9c5-a693-43be-acac-cd946587739c",
   "metadata": {},
   "outputs": [
    {
     "name": "stdin",
     "output_type": "stream",
     "text": [
      "enter width: 6.8\n"
     ]
    }
   ],
   "source": [
    "width=float(input(\"enter width:\"))"
   ]
  },
  {
   "cell_type": "code",
   "execution_count": 25,
   "id": "e3e9d97e-fb68-49cf-a80d-17300b3cf7bf",
   "metadata": {},
   "outputs": [],
   "source": [
    "area=height*width"
   ]
  },
  {
   "cell_type": "code",
   "execution_count": 26,
   "id": "490d64ed-c7b2-48e2-bf27-df4fcc5e79a8",
   "metadata": {},
   "outputs": [
    {
     "data": {
      "text/plain": [
       "38.76"
      ]
     },
     "execution_count": 26,
     "metadata": {},
     "output_type": "execute_result"
    }
   ],
   "source": [
    "area"
   ]
  },
  {
   "cell_type": "code",
   "execution_count": 27,
   "id": "04f5ae6d-3ae1-40c0-8d84-8fd4edc38ba5",
   "metadata": {},
   "outputs": [
    {
     "name": "stdout",
     "output_type": "stream",
     "text": [
      "the area is: 38.76\n"
     ]
    }
   ],
   "source": [
    "print(\"the area is:\",area)"
   ]
  },
  {
   "cell_type": "markdown",
   "id": "17398141-5853-4ad8-8c41-7fa1f83c58f8",
   "metadata": {},
   "source": [
    "# comparison OPerators"
   ]
  },
  {
   "cell_type": "code",
   "execution_count": 28,
   "id": "1aaa1e77-394f-4d03-ae9b-ecb0943a3c7e",
   "metadata": {},
   "outputs": [],
   "source": [
    "a = 2\n",
    "b = 1\n"
   ]
  },
  {
   "cell_type": "code",
   "execution_count": 29,
   "id": "8b96ff61-bb8c-4829-b201-f1a00cd19fda",
   "metadata": {},
   "outputs": [
    {
     "data": {
      "text/plain": [
       "True"
      ]
     },
     "execution_count": 29,
     "metadata": {},
     "output_type": "execute_result"
    }
   ],
   "source": [
    "a>b"
   ]
  },
  {
   "cell_type": "code",
   "execution_count": 30,
   "id": "03b326e6-1d76-40a4-96e2-e43563be9909",
   "metadata": {},
   "outputs": [
    {
     "data": {
      "text/plain": [
       "False"
      ]
     },
     "execution_count": 30,
     "metadata": {},
     "output_type": "execute_result"
    }
   ],
   "source": [
    "a<b"
   ]
  },
  {
   "cell_type": "code",
   "execution_count": 31,
   "id": "27e6a28c-ba25-49f9-adb1-d0b8c8df2827",
   "metadata": {},
   "outputs": [
    {
     "data": {
      "text/plain": [
       "False"
      ]
     },
     "execution_count": 31,
     "metadata": {},
     "output_type": "execute_result"
    }
   ],
   "source": [
    "a <= b"
   ]
  },
  {
   "cell_type": "code",
   "execution_count": 32,
   "id": "24524743-f05f-4933-a878-6c12f6dfb0c6",
   "metadata": {},
   "outputs": [
    {
     "data": {
      "text/plain": [
       "True"
      ]
     },
     "execution_count": 32,
     "metadata": {},
     "output_type": "execute_result"
    }
   ],
   "source": [
    "a >= b"
   ]
  },
  {
   "cell_type": "code",
   "execution_count": 33,
   "id": "29213176-ab17-4a55-823d-a11310556730",
   "metadata": {},
   "outputs": [
    {
     "data": {
      "text/plain": [
       "False"
      ]
     },
     "execution_count": 33,
     "metadata": {},
     "output_type": "execute_result"
    }
   ],
   "source": [
    "a == b "
   ]
  },
  {
   "cell_type": "code",
   "execution_count": 34,
   "id": "0546e2c0-9018-4bbb-a852-1cfe03e453a1",
   "metadata": {},
   "outputs": [
    {
     "data": {
      "text/plain": [
       "True"
      ]
     },
     "execution_count": 34,
     "metadata": {},
     "output_type": "execute_result"
    }
   ],
   "source": [
    "a != b"
   ]
  },
  {
   "cell_type": "markdown",
   "id": "b00c2f49-26a9-4b87-8912-47877752587d",
   "metadata": {},
   "source": [
    "# the list of fav colours is:"
   ]
  },
  {
   "cell_type": "markdown",
   "id": "c4de7cae-b259-4430-9317-41b331adafbe",
   "metadata": {},
   "source": [
    "1.purple\n",
    "2.orange\n",
    "3.parrot\n",
    "4.red\n",
    "5.white"
   ]
  },
  {
   "cell_type": "code",
   "execution_count": 36,
   "id": "b40e815d-6c3c-463b-b053-6de1164aa310",
   "metadata": {},
   "outputs": [
    {
     "name": "stdin",
     "output_type": "stream",
     "text": [
      "enter employes salary: 100000\n"
     ]
    }
   ],
   "source": [
    "emp1salary= int(input(\"enter employes salary:\",))"
   ]
  },
  {
   "cell_type": "code",
   "execution_count": 38,
   "id": "991688b9-16ef-4561-9c6c-f650c545e727",
   "metadata": {},
   "outputs": [
    {
     "name": "stdin",
     "output_type": "stream",
     "text": [
      "enter employes2 salary: 400000\n"
     ]
    }
   ],
   "source": [
    "emp2salary= int(input(\"enter employes2 salary:\",))"
   ]
  },
  {
   "cell_type": "code",
   "execution_count": 48,
   "id": "2bdfa5bf-af9a-4793-8f94-2e37d4014e78",
   "metadata": {},
   "outputs": [],
   "source": [
    "employesbonus= (20/100)*emp1salary"
   ]
  },
  {
   "cell_type": "code",
   "execution_count": 49,
   "id": "2109b6d8-d94b-4845-9890-02dbf1ab0955",
   "metadata": {},
   "outputs": [
    {
     "data": {
      "text/plain": [
       "20000.0"
      ]
     },
     "execution_count": 49,
     "metadata": {},
     "output_type": "execute_result"
    }
   ],
   "source": [
    "employesbonus"
   ]
  },
  {
   "cell_type": "code",
   "execution_count": 50,
   "id": "042d490f-f61c-4c3d-96da-46213499695b",
   "metadata": {},
   "outputs": [],
   "source": [
    "employesbonus2= (30/100)*emp2salary"
   ]
  },
  {
   "cell_type": "code",
   "execution_count": 51,
   "id": "446e67d4-38e3-4b2f-9b57-a8332302d7a6",
   "metadata": {},
   "outputs": [
    {
     "data": {
      "text/plain": [
       "120000.0"
      ]
     },
     "execution_count": 51,
     "metadata": {},
     "output_type": "execute_result"
    }
   ],
   "source": [
    "employesbonus2"
   ]
  },
  {
   "cell_type": "code",
   "execution_count": 53,
   "id": "78c02d38-eba1-4978-81c5-f96abdf26a47",
   "metadata": {},
   "outputs": [
    {
     "name": "stdout",
     "output_type": "stream",
     "text": [
      "employes salary before: 2000\n",
      "employes salary after: 100.0\n"
     ]
    }
   ],
   "source": [
    "employes1= 2000\n",
    "bonus= (5/100)*employes1\n",
    "print(\"employes salary before:\",employes1)\n",
    "print(\"employes salary after:\",bonus)"
   ]
  },
  {
   "cell_type": "code",
   "execution_count": 56,
   "id": "e61f5e5e-d07f-4d56-956a-ce486fa1481d",
   "metadata": {},
   "outputs": [
    {
     "name": "stdin",
     "output_type": "stream",
     "text": [
      "input: 2500\n"
     ]
    }
   ],
   "source": [
    "person= int(input(\"input:\",))"
   ]
  },
  {
   "cell_type": "code",
   "execution_count": 59,
   "id": "ba884bd3-1e0f-4f28-980c-170937efa52f",
   "metadata": {},
   "outputs": [
    {
     "name": "stdin",
     "output_type": "stream",
     "text": [
      "output: 3500\n"
     ]
    }
   ],
   "source": [
    "person2= int(input(\"output:\",))"
   ]
  },
  {
   "cell_type": "code",
   "execution_count": 60,
   "id": "18709896-c0ac-4e78-9fe3-51f3995e50a8",
   "metadata": {},
   "outputs": [],
   "source": [
    "total= person+person2"
   ]
  },
  {
   "cell_type": "code",
   "execution_count": 61,
   "id": "d9dff248-4e7d-4b2d-a43a-b0e7eb663ede",
   "metadata": {},
   "outputs": [
    {
     "data": {
      "text/plain": [
       "6000"
      ]
     },
     "execution_count": 61,
     "metadata": {},
     "output_type": "execute_result"
    }
   ],
   "source": [
    "total"
   ]
  },
  {
   "cell_type": "code",
   "execution_count": 62,
   "id": "e3e1d6e0-89eb-4264-8519-d4a8d3d3ed64",
   "metadata": {},
   "outputs": [],
   "source": [
    "a= 8\n",
    "b= 10"
   ]
  },
  {
   "cell_type": "code",
   "execution_count": 63,
   "id": "6a59a82c-37cb-4297-baeb-300b20526f9b",
   "metadata": {},
   "outputs": [
    {
     "data": {
      "text/plain": [
       "False"
      ]
     },
     "execution_count": 63,
     "metadata": {},
     "output_type": "execute_result"
    }
   ],
   "source": [
    "a>b"
   ]
  },
  {
   "cell_type": "code",
   "execution_count": 64,
   "id": "07484e03-e580-4c88-a7cc-c0b8c72ee679",
   "metadata": {},
   "outputs": [
    {
     "data": {
      "text/plain": [
       "True"
      ]
     },
     "execution_count": 64,
     "metadata": {},
     "output_type": "execute_result"
    }
   ],
   "source": [
    "a<b"
   ]
  },
  {
   "cell_type": "code",
   "execution_count": 65,
   "id": "319afc4f-d29f-4049-827b-5dd5f8b1c27e",
   "metadata": {},
   "outputs": [
    {
     "data": {
      "text/plain": [
       "False"
      ]
     },
     "execution_count": 65,
     "metadata": {},
     "output_type": "execute_result"
    }
   ],
   "source": [
    "a==b"
   ]
  },
  {
   "cell_type": "code",
   "execution_count": 67,
   "id": "68740049-d67c-4c8d-b499-c0e3033737d3",
   "metadata": {},
   "outputs": [
    {
     "data": {
      "text/plain": [
       "True"
      ]
     },
     "execution_count": 67,
     "metadata": {},
     "output_type": "execute_result"
    }
   ],
   "source": [
    "a!=b"
   ]
  },
  {
   "cell_type": "markdown",
   "id": "54a0298c-2363-49a6-9550-584e8cd94f68",
   "metadata": {},
   "source": [
    "## write a phython program to add two number using arithmetic operators take two numbers as input from the user"
   ]
  },
  {
   "cell_type": "code",
   "execution_count": 3,
   "id": "b61c9007-52bd-404c-8af0-120741b6b817",
   "metadata": {},
   "outputs": [
    {
     "name": "stdin",
     "output_type": "stream",
     "text": [
      "1st number: 5\n"
     ]
    }
   ],
   "source": [
    "numbers= int(input(\"1st number:\",))"
   ]
  },
  {
   "cell_type": "code",
   "execution_count": 5,
   "id": "7e4ed3d7-745c-4ae1-b7d0-e2f42c7bfc23",
   "metadata": {},
   "outputs": [
    {
     "name": "stdin",
     "output_type": "stream",
     "text": [
      "2nd number: 10\n"
     ]
    }
   ],
   "source": [
    "number2= int(input(\"2nd number:\",))"
   ]
  },
  {
   "cell_type": "code",
   "execution_count": 8,
   "id": "81f925cf-9f2a-4870-997b-dbc2d55450ca",
   "metadata": {},
   "outputs": [],
   "source": [
    "total=numbers+number2"
   ]
  },
  {
   "cell_type": "code",
   "execution_count": 9,
   "id": "1f2298ed-239b-4e7b-af2d-d260761d8255",
   "metadata": {},
   "outputs": [
    {
     "name": "stdout",
     "output_type": "stream",
     "text": [
      "the sum of numbers is: 15\n"
     ]
    }
   ],
   "source": [
    "print(\"the sum of numbers is:\",total)"
   ]
  },
  {
   "cell_type": "code",
   "execution_count": 10,
   "id": "9fbcd30d-482b-4c32-b919-b3bf47b84bce",
   "metadata": {},
   "outputs": [],
   "source": [
    "#write a program to calculate the area of rectangle using arithmetic operator take length and width as input from user"
   ]
  },
  {
   "cell_type": "code",
   "execution_count": 13,
   "id": "a1537875-dbd2-45c3-80a2-6f57a33428c1",
   "metadata": {},
   "outputs": [
    {
     "name": "stdin",
     "output_type": "stream",
     "text": [
      "length : 80\n"
     ]
    }
   ],
   "source": [
    "length= int(input(\"length :\",))"
   ]
  },
  {
   "cell_type": "code",
   "execution_count": 17,
   "id": "9e53bbb7-e455-4db4-8973-c9a85175a5ea",
   "metadata": {},
   "outputs": [
    {
     "name": "stdin",
     "output_type": "stream",
     "text": [
      "width: 78\n"
     ]
    }
   ],
   "source": [
    "width= int(input(\"width:\",))"
   ]
  },
  {
   "cell_type": "code",
   "execution_count": 18,
   "id": "a8af6b8c-d1df-449a-8dd8-e0e0794669ae",
   "metadata": {},
   "outputs": [],
   "source": [
    "area= length*width"
   ]
  },
  {
   "cell_type": "code",
   "execution_count": 19,
   "id": "c0cef3f7-2593-4d9e-9c3f-ff9de7759ce8",
   "metadata": {},
   "outputs": [
    {
     "data": {
      "text/plain": [
       "6240"
      ]
     },
     "execution_count": 19,
     "metadata": {},
     "output_type": "execute_result"
    }
   ],
   "source": [
    "area"
   ]
  },
  {
   "cell_type": "code",
   "execution_count": 20,
   "id": "1104bd66-fc41-430d-81ef-4cf3a72b77cc",
   "metadata": {},
   "outputs": [
    {
     "name": "stdout",
     "output_type": "stream",
     "text": [
      "the area of rectangle is: 6240\n"
     ]
    }
   ],
   "source": [
    "print(\"the area of rectangle is:\",area)"
   ]
  },
  {
   "cell_type": "code",
   "execution_count": 22,
   "id": "4f1cb89c-ab77-4bcb-8233-123daa195234",
   "metadata": {},
   "outputs": [],
   "source": [
    "#calculate the average of three numbers and take input from the user"
   ]
  },
  {
   "cell_type": "code",
   "execution_count": 23,
   "id": "5f868ab9-2ca1-4a34-b465-946cc4350045",
   "metadata": {},
   "outputs": [
    {
     "name": "stdin",
     "output_type": "stream",
     "text": [
      "1st number: 20\n"
     ]
    }
   ],
   "source": [
    "number1= int(input(\"1st number:\",))"
   ]
  },
  {
   "cell_type": "code",
   "execution_count": 24,
   "id": "a7ec61f3-4400-4ac1-92b5-ab3eb2f4afcc",
   "metadata": {},
   "outputs": [
    {
     "name": "stdin",
     "output_type": "stream",
     "text": [
      "2nd number: 40\n"
     ]
    }
   ],
   "source": [
    "number2= int(input(\"2nd number:\",))"
   ]
  },
  {
   "cell_type": "code",
   "execution_count": 25,
   "id": "4d8e812c-2849-4687-b427-d6bfe53192d1",
   "metadata": {},
   "outputs": [
    {
     "name": "stdin",
     "output_type": "stream",
     "text": [
      "3rd number: 60\n"
     ]
    }
   ],
   "source": [
    "number3= int(input(\"3rd number:\",))"
   ]
  },
  {
   "cell_type": "code",
   "execution_count": 27,
   "id": "3a1df9da-e5a5-44c2-9e8f-0094dac51f0a",
   "metadata": {},
   "outputs": [],
   "source": [
    "average= number1+number2+number3/3"
   ]
  },
  {
   "cell_type": "code",
   "execution_count": 28,
   "id": "5e1e71ff-33b9-477c-8d16-d6fe8440aa0e",
   "metadata": {},
   "outputs": [
    {
     "data": {
      "text/plain": [
       "80.0"
      ]
     },
     "execution_count": 28,
     "metadata": {},
     "output_type": "execute_result"
    }
   ],
   "source": [
    "average"
   ]
  },
  {
   "cell_type": "markdown",
   "id": "9609ddad-13a6-4bdb-8505-ab1a7fe61a2e",
   "metadata": {},
   "source": [
    "#take two number from the user and print the sum,difference,product,quotient"
   ]
  },
  {
   "cell_type": "code",
   "execution_count": null,
   "id": "8f5ce731-37ae-4be8-a215-43e883f1c6e5",
   "metadata": {},
   "outputs": [],
   "source": [
    "number1= int(input(\"number1:\",))\n",
    "number2= int(input(\"number2:\",))\n",
    "sum= number1+number2\n",
    "difference= number1_number2\n",
    "product= number1*number2\n",
    "quotient+ number1/number2\n",
    "print(\"the sum,difference,product and quotient is:\",sum,difference,product,quotient)\n"
   ]
  },
  {
   "cell_type": "code",
   "execution_count": null,
   "id": "a9e4a0c0-a81f-43c0-8dfa-eafb95359bbc",
   "metadata": {},
   "outputs": [],
   "source": [
    "#two numbers and print square and cube"
   ]
  },
  {
   "cell_type": "code",
   "execution_count": null,
   "id": "3d1677b7-15dd-4702-af53-a96bbeea2b77",
   "metadata": {},
   "outputs": [],
   "source": [
    "\n",
    "number1= int(input(\"1st number:\",))\n",
    "number2= int(input(\"2nd number:\",))\n",
    "square= number1*number1\n",
    "square2= number2*number2\n",
    "cube1= number1*number1*number1\n",
    "cube2= number2*number2*number2\n",
    "print(\"the square of number 1:\",square)\n",
    "print(\"the square of number 2:\",square2)\n",
    "print(\"the cube of number 1:\",cube1)\n",
    "print(\"the cube of number 2 is:\",cube 2)\n"
   ]
  },
  {
   "cell_type": "code",
   "execution_count": null,
   "id": "3f500280-21d9-4d7b-ae31-99c427fbf345",
   "metadata": {},
   "outputs": [],
   "source": []
  }
 ],
 "metadata": {
  "kernelspec": {
   "display_name": "Python 3 (ipykernel)",
   "language": "python",
   "name": "python3"
  },
  "language_info": {
   "codemirror_mode": {
    "name": "ipython",
    "version": 3
   },
   "file_extension": ".py",
   "mimetype": "text/x-python",
   "name": "python",
   "nbconvert_exporter": "python",
   "pygments_lexer": "ipython3",
   "version": "3.11.7"
  }
 },
 "nbformat": 4,
 "nbformat_minor": 5
}
